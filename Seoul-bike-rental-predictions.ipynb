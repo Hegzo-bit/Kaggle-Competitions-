{
 "cells": [
  {
   "cell_type": "markdown",
   "id": "1c20d0e3",
   "metadata": {
    "papermill": {
     "duration": 0.072694,
     "end_time": "2021-08-30T15:42:01.722488",
     "exception": false,
     "start_time": "2021-08-30T15:42:01.649794",
     "status": "completed"
    },
    "tags": []
   },
   "source": [
    "# Seoul Bike Rental Prediction"
   ]
  },
  {
   "cell_type": "markdown",
   "id": "e8bc4cd4",
   "metadata": {
    "papermill": {
     "duration": 0.071392,
     "end_time": "2021-08-30T15:42:01.863609",
     "exception": false,
     "start_time": "2021-08-30T15:42:01.792217",
     "status": "completed"
    },
    "tags": []
   },
   "source": [
    "## Introduction\n",
    "The objective of this competition is to predict bike rental counts  in Seoul city based on the environmental and seasonal settings."
   ]
  },
  {
   "cell_type": "markdown",
   "id": "dd5b584c",
   "metadata": {
    "papermill": {
     "duration": 0.068099,
     "end_time": "2021-08-30T15:42:02.001622",
     "exception": false,
     "start_time": "2021-08-30T15:42:01.933523",
     "status": "completed"
    },
    "tags": []
   },
   "source": [
    "### Import libraries"
   ]
  },
  {
   "cell_type": "code",
   "execution_count": 1,
   "id": "94dbaeca",
   "metadata": {
    "execution": {
     "iopub.execute_input": "2021-08-30T15:42:02.148346Z",
     "iopub.status.busy": "2021-08-30T15:42:02.147201Z",
     "iopub.status.idle": "2021-08-30T15:42:03.476162Z",
     "shell.execute_reply": "2021-08-30T15:42:03.475293Z",
     "shell.execute_reply.started": "2021-08-30T15:19:19.419910Z"
    },
    "papermill": {
     "duration": 1.400972,
     "end_time": "2021-08-30T15:42:03.476332",
     "exception": false,
     "start_time": "2021-08-30T15:42:02.075360",
     "status": "completed"
    },
    "tags": []
   },
   "outputs": [],
   "source": [
    "import numpy as np \n",
    "import pandas as pd \n",
    "import os\n",
    "import matplotlib.pyplot as plt\n",
    "import seaborn as sns\n",
    "\n"
   ]
  },
  {
   "cell_type": "markdown",
   "id": "9c6deab3",
   "metadata": {
    "papermill": {
     "duration": 0.066853,
     "end_time": "2021-08-30T15:42:03.612765",
     "exception": false,
     "start_time": "2021-08-30T15:42:03.545912",
     "status": "completed"
    },
    "tags": []
   },
   "source": [
    "### Import the dataset"
   ]
  },
  {
   "cell_type": "code",
   "execution_count": 2,
   "id": "a7c8adcc",
   "metadata": {
    "execution": {
     "iopub.execute_input": "2021-08-30T15:42:03.761323Z",
     "iopub.status.busy": "2021-08-30T15:42:03.760490Z",
     "iopub.status.idle": "2021-08-30T15:42:03.795398Z",
     "shell.execute_reply": "2021-08-30T15:42:03.793676Z",
     "shell.execute_reply.started": "2021-08-30T15:19:19.483416Z"
    },
    "papermill": {
     "duration": 0.112239,
     "end_time": "2021-08-30T15:42:03.795596",
     "exception": false,
     "start_time": "2021-08-30T15:42:03.683357",
     "status": "completed"
    },
    "tags": []
   },
   "outputs": [],
   "source": [
    "# Read train data\n",
    "dataset_path = '/kaggle/input/seoul-bike-rental-ai-pro-iti/'\n",
    "train = pd.read_csv(os.path.join(dataset_path, 'train.csv'))"
   ]
  },
  {
   "cell_type": "code",
   "execution_count": 3,
   "id": "5ffb4aa5",
   "metadata": {
    "execution": {
     "iopub.execute_input": "2021-08-30T15:42:03.941194Z",
     "iopub.status.busy": "2021-08-30T15:42:03.940530Z",
     "iopub.status.idle": "2021-08-30T15:42:03.945471Z",
     "shell.execute_reply": "2021-08-30T15:42:03.944879Z",
     "shell.execute_reply.started": "2021-08-30T15:19:19.507978Z"
    },
    "papermill": {
     "duration": 0.079113,
     "end_time": "2021-08-30T15:42:03.945629",
     "exception": false,
     "start_time": "2021-08-30T15:42:03.866516",
     "status": "completed"
    },
    "tags": []
   },
   "outputs": [
    {
     "name": "stdout",
     "output_type": "stream",
     "text": [
      "Train shape: (5760, 15)\n"
     ]
    }
   ],
   "source": [
    "# Look at the shape of the data\n",
    "print('Train shape:', train.shape)"
   ]
  },
  {
   "cell_type": "code",
   "execution_count": 4,
   "id": "9d944cb6",
   "metadata": {
    "execution": {
     "iopub.execute_input": "2021-08-30T15:42:04.098740Z",
     "iopub.status.busy": "2021-08-30T15:42:04.097716Z",
     "iopub.status.idle": "2021-08-30T15:42:04.136106Z",
     "shell.execute_reply": "2021-08-30T15:42:04.136655Z",
     "shell.execute_reply.started": "2021-08-30T15:19:19.538829Z"
    },
    "papermill": {
     "duration": 0.120545,
     "end_time": "2021-08-30T15:42:04.136858",
     "exception": false,
     "start_time": "2021-08-30T15:42:04.016313",
     "status": "completed"
    },
    "scrolled": true,
    "tags": []
   },
   "outputs": [
    {
     "data": {
      "text/html": [
       "<div>\n",
       "<style scoped>\n",
       "    .dataframe tbody tr th:only-of-type {\n",
       "        vertical-align: middle;\n",
       "    }\n",
       "\n",
       "    .dataframe tbody tr th {\n",
       "        vertical-align: top;\n",
       "    }\n",
       "\n",
       "    .dataframe thead th {\n",
       "        text-align: right;\n",
       "    }\n",
       "</style>\n",
       "<table border=\"1\" class=\"dataframe\">\n",
       "  <thead>\n",
       "    <tr style=\"text-align: right;\">\n",
       "      <th></th>\n",
       "      <th>ID</th>\n",
       "      <th>Date</th>\n",
       "      <th>y</th>\n",
       "      <th>Hour</th>\n",
       "      <th>Temperature(�C)</th>\n",
       "      <th>Humidity(%)</th>\n",
       "      <th>Wind speed (m/s)</th>\n",
       "      <th>Visibility (10m)</th>\n",
       "      <th>Dew point temperature(�C)</th>\n",
       "      <th>Solar Radiation (MJ/m2)</th>\n",
       "      <th>Rainfall(mm)</th>\n",
       "      <th>Snowfall (cm)</th>\n",
       "      <th>Seasons</th>\n",
       "      <th>Holiday</th>\n",
       "      <th>Functioning Day</th>\n",
       "    </tr>\n",
       "  </thead>\n",
       "  <tbody>\n",
       "    <tr>\n",
       "      <th>0</th>\n",
       "      <td>0</td>\n",
       "      <td>01/12/2017</td>\n",
       "      <td>254</td>\n",
       "      <td>0</td>\n",
       "      <td>-5.2</td>\n",
       "      <td>37</td>\n",
       "      <td>2.2</td>\n",
       "      <td>2000</td>\n",
       "      <td>-17.6</td>\n",
       "      <td>0.0</td>\n",
       "      <td>0.0</td>\n",
       "      <td>0.0</td>\n",
       "      <td>Winter</td>\n",
       "      <td>No Holiday</td>\n",
       "      <td>Yes</td>\n",
       "    </tr>\n",
       "    <tr>\n",
       "      <th>1</th>\n",
       "      <td>1</td>\n",
       "      <td>01/12/2017</td>\n",
       "      <td>204</td>\n",
       "      <td>1</td>\n",
       "      <td>-5.5</td>\n",
       "      <td>38</td>\n",
       "      <td>0.8</td>\n",
       "      <td>2000</td>\n",
       "      <td>-17.6</td>\n",
       "      <td>0.0</td>\n",
       "      <td>0.0</td>\n",
       "      <td>0.0</td>\n",
       "      <td>Winter</td>\n",
       "      <td>No Holiday</td>\n",
       "      <td>Yes</td>\n",
       "    </tr>\n",
       "    <tr>\n",
       "      <th>2</th>\n",
       "      <td>2</td>\n",
       "      <td>01/12/2017</td>\n",
       "      <td>173</td>\n",
       "      <td>2</td>\n",
       "      <td>-6.0</td>\n",
       "      <td>39</td>\n",
       "      <td>1.0</td>\n",
       "      <td>2000</td>\n",
       "      <td>-17.7</td>\n",
       "      <td>0.0</td>\n",
       "      <td>0.0</td>\n",
       "      <td>0.0</td>\n",
       "      <td>Winter</td>\n",
       "      <td>No Holiday</td>\n",
       "      <td>Yes</td>\n",
       "    </tr>\n",
       "    <tr>\n",
       "      <th>3</th>\n",
       "      <td>3</td>\n",
       "      <td>01/12/2017</td>\n",
       "      <td>107</td>\n",
       "      <td>3</td>\n",
       "      <td>-6.2</td>\n",
       "      <td>40</td>\n",
       "      <td>0.9</td>\n",
       "      <td>2000</td>\n",
       "      <td>-17.6</td>\n",
       "      <td>0.0</td>\n",
       "      <td>0.0</td>\n",
       "      <td>0.0</td>\n",
       "      <td>Winter</td>\n",
       "      <td>No Holiday</td>\n",
       "      <td>Yes</td>\n",
       "    </tr>\n",
       "    <tr>\n",
       "      <th>4</th>\n",
       "      <td>4</td>\n",
       "      <td>01/12/2017</td>\n",
       "      <td>78</td>\n",
       "      <td>4</td>\n",
       "      <td>-6.0</td>\n",
       "      <td>36</td>\n",
       "      <td>2.3</td>\n",
       "      <td>2000</td>\n",
       "      <td>-18.6</td>\n",
       "      <td>0.0</td>\n",
       "      <td>0.0</td>\n",
       "      <td>0.0</td>\n",
       "      <td>Winter</td>\n",
       "      <td>No Holiday</td>\n",
       "      <td>Yes</td>\n",
       "    </tr>\n",
       "  </tbody>\n",
       "</table>\n",
       "</div>"
      ],
      "text/plain": [
       "   ID        Date    y  Hour  Temperature(�C)  Humidity(%)  Wind speed (m/s)  \\\n",
       "0   0  01/12/2017  254     0             -5.2           37               2.2   \n",
       "1   1  01/12/2017  204     1             -5.5           38               0.8   \n",
       "2   2  01/12/2017  173     2             -6.0           39               1.0   \n",
       "3   3  01/12/2017  107     3             -6.2           40               0.9   \n",
       "4   4  01/12/2017   78     4             -6.0           36               2.3   \n",
       "\n",
       "   Visibility (10m)  Dew point temperature(�C)  Solar Radiation (MJ/m2)  \\\n",
       "0              2000                      -17.6                      0.0   \n",
       "1              2000                      -17.6                      0.0   \n",
       "2              2000                      -17.7                      0.0   \n",
       "3              2000                      -17.6                      0.0   \n",
       "4              2000                      -18.6                      0.0   \n",
       "\n",
       "   Rainfall(mm)  Snowfall (cm) Seasons     Holiday Functioning Day  \n",
       "0           0.0            0.0  Winter  No Holiday             Yes  \n",
       "1           0.0            0.0  Winter  No Holiday             Yes  \n",
       "2           0.0            0.0  Winter  No Holiday             Yes  \n",
       "3           0.0            0.0  Winter  No Holiday             Yes  \n",
       "4           0.0            0.0  Winter  No Holiday             Yes  "
      ]
     },
     "execution_count": 4,
     "metadata": {},
     "output_type": "execute_result"
    }
   ],
   "source": [
    "# Look at the head() of the data\n",
    "train.head()"
   ]
  },
  {
   "cell_type": "code",
   "execution_count": 5,
   "id": "45db534c",
   "metadata": {
    "execution": {
     "iopub.execute_input": "2021-08-30T15:42:04.283330Z",
     "iopub.status.busy": "2021-08-30T15:42:04.282365Z",
     "iopub.status.idle": "2021-08-30T15:42:04.306453Z",
     "shell.execute_reply": "2021-08-30T15:42:04.306928Z",
     "shell.execute_reply.started": "2021-08-30T15:19:19.607860Z"
    },
    "papermill": {
     "duration": 0.098788,
     "end_time": "2021-08-30T15:42:04.307107",
     "exception": false,
     "start_time": "2021-08-30T15:42:04.208319",
     "status": "completed"
    },
    "tags": []
   },
   "outputs": [
    {
     "data": {
      "text/html": [
       "<div>\n",
       "<style scoped>\n",
       "    .dataframe tbody tr th:only-of-type {\n",
       "        vertical-align: middle;\n",
       "    }\n",
       "\n",
       "    .dataframe tbody tr th {\n",
       "        vertical-align: top;\n",
       "    }\n",
       "\n",
       "    .dataframe thead th {\n",
       "        text-align: right;\n",
       "    }\n",
       "</style>\n",
       "<table border=\"1\" class=\"dataframe\">\n",
       "  <thead>\n",
       "    <tr style=\"text-align: right;\">\n",
       "      <th></th>\n",
       "      <th>ID</th>\n",
       "      <th>Date</th>\n",
       "      <th>y</th>\n",
       "      <th>Hour</th>\n",
       "      <th>Temperature(�C)</th>\n",
       "      <th>Humidity(%)</th>\n",
       "      <th>Wind speed (m/s)</th>\n",
       "      <th>Visibility (10m)</th>\n",
       "      <th>Dew point temperature(�C)</th>\n",
       "      <th>Solar Radiation (MJ/m2)</th>\n",
       "      <th>Rainfall(mm)</th>\n",
       "      <th>Snowfall (cm)</th>\n",
       "      <th>Seasons</th>\n",
       "      <th>Holiday</th>\n",
       "      <th>Functioning Day</th>\n",
       "    </tr>\n",
       "  </thead>\n",
       "  <tbody>\n",
       "    <tr>\n",
       "      <th>5755</th>\n",
       "      <td>5755</td>\n",
       "      <td>20/11/2018</td>\n",
       "      <td>1317</td>\n",
       "      <td>19</td>\n",
       "      <td>8.7</td>\n",
       "      <td>34</td>\n",
       "      <td>2.2</td>\n",
       "      <td>1857</td>\n",
       "      <td>-6.3</td>\n",
       "      <td>0.0</td>\n",
       "      <td>0.0</td>\n",
       "      <td>0.0</td>\n",
       "      <td>Autumn</td>\n",
       "      <td>No Holiday</td>\n",
       "      <td>Yes</td>\n",
       "    </tr>\n",
       "    <tr>\n",
       "      <th>5756</th>\n",
       "      <td>5756</td>\n",
       "      <td>20/11/2018</td>\n",
       "      <td>1078</td>\n",
       "      <td>20</td>\n",
       "      <td>8.5</td>\n",
       "      <td>32</td>\n",
       "      <td>2.6</td>\n",
       "      <td>1789</td>\n",
       "      <td>-7.2</td>\n",
       "      <td>0.0</td>\n",
       "      <td>0.0</td>\n",
       "      <td>0.0</td>\n",
       "      <td>Autumn</td>\n",
       "      <td>No Holiday</td>\n",
       "      <td>Yes</td>\n",
       "    </tr>\n",
       "    <tr>\n",
       "      <th>5757</th>\n",
       "      <td>5757</td>\n",
       "      <td>20/11/2018</td>\n",
       "      <td>1020</td>\n",
       "      <td>21</td>\n",
       "      <td>8.8</td>\n",
       "      <td>37</td>\n",
       "      <td>3.8</td>\n",
       "      <td>1750</td>\n",
       "      <td>-5.1</td>\n",
       "      <td>0.0</td>\n",
       "      <td>0.0</td>\n",
       "      <td>0.0</td>\n",
       "      <td>Autumn</td>\n",
       "      <td>No Holiday</td>\n",
       "      <td>Yes</td>\n",
       "    </tr>\n",
       "    <tr>\n",
       "      <th>5758</th>\n",
       "      <td>5758</td>\n",
       "      <td>20/11/2018</td>\n",
       "      <td>922</td>\n",
       "      <td>22</td>\n",
       "      <td>8.9</td>\n",
       "      <td>40</td>\n",
       "      <td>3.4</td>\n",
       "      <td>1810</td>\n",
       "      <td>-3.9</td>\n",
       "      <td>0.0</td>\n",
       "      <td>0.0</td>\n",
       "      <td>0.0</td>\n",
       "      <td>Autumn</td>\n",
       "      <td>No Holiday</td>\n",
       "      <td>Yes</td>\n",
       "    </tr>\n",
       "    <tr>\n",
       "      <th>5759</th>\n",
       "      <td>5759</td>\n",
       "      <td>20/11/2018</td>\n",
       "      <td>378</td>\n",
       "      <td>23</td>\n",
       "      <td>9.3</td>\n",
       "      <td>43</td>\n",
       "      <td>3.5</td>\n",
       "      <td>1807</td>\n",
       "      <td>-2.6</td>\n",
       "      <td>0.0</td>\n",
       "      <td>0.0</td>\n",
       "      <td>0.0</td>\n",
       "      <td>Autumn</td>\n",
       "      <td>No Holiday</td>\n",
       "      <td>Yes</td>\n",
       "    </tr>\n",
       "  </tbody>\n",
       "</table>\n",
       "</div>"
      ],
      "text/plain": [
       "        ID        Date     y  Hour  Temperature(�C)  Humidity(%)  \\\n",
       "5755  5755  20/11/2018  1317    19              8.7           34   \n",
       "5756  5756  20/11/2018  1078    20              8.5           32   \n",
       "5757  5757  20/11/2018  1020    21              8.8           37   \n",
       "5758  5758  20/11/2018   922    22              8.9           40   \n",
       "5759  5759  20/11/2018   378    23              9.3           43   \n",
       "\n",
       "      Wind speed (m/s)  Visibility (10m)  Dew point temperature(�C)  \\\n",
       "5755               2.2              1857                       -6.3   \n",
       "5756               2.6              1789                       -7.2   \n",
       "5757               3.8              1750                       -5.1   \n",
       "5758               3.4              1810                       -3.9   \n",
       "5759               3.5              1807                       -2.6   \n",
       "\n",
       "      Solar Radiation (MJ/m2)  Rainfall(mm)  Snowfall (cm) Seasons  \\\n",
       "5755                      0.0           0.0            0.0  Autumn   \n",
       "5756                      0.0           0.0            0.0  Autumn   \n",
       "5757                      0.0           0.0            0.0  Autumn   \n",
       "5758                      0.0           0.0            0.0  Autumn   \n",
       "5759                      0.0           0.0            0.0  Autumn   \n",
       "\n",
       "         Holiday Functioning Day  \n",
       "5755  No Holiday             Yes  \n",
       "5756  No Holiday             Yes  \n",
       "5757  No Holiday             Yes  \n",
       "5758  No Holiday             Yes  \n",
       "5759  No Holiday             Yes  "
      ]
     },
     "execution_count": 5,
     "metadata": {},
     "output_type": "execute_result"
    }
   ],
   "source": [
    "train.tail()"
   ]
  },
  {
   "cell_type": "code",
   "execution_count": 6,
   "id": "1246fe25",
   "metadata": {
    "execution": {
     "iopub.execute_input": "2021-08-30T15:42:04.452994Z",
     "iopub.status.busy": "2021-08-30T15:42:04.452016Z",
     "iopub.status.idle": "2021-08-30T15:42:04.478938Z",
     "shell.execute_reply": "2021-08-30T15:42:04.479711Z",
     "shell.execute_reply.started": "2021-08-30T15:19:19.643364Z"
    },
    "papermill": {
     "duration": 0.101894,
     "end_time": "2021-08-30T15:42:04.480046",
     "exception": false,
     "start_time": "2021-08-30T15:42:04.378152",
     "status": "completed"
    },
    "tags": []
   },
   "outputs": [],
   "source": [
    "# Read the test data\n",
    "dataset_path = '/kaggle/input/seoul-bike-rental-ai-pro-iti/'\n",
    "test = pd.read_csv(os.path.join(dataset_path, 'test.csv'))"
   ]
  },
  {
   "cell_type": "code",
   "execution_count": 7,
   "id": "57392c6d",
   "metadata": {
    "execution": {
     "iopub.execute_input": "2021-08-30T15:42:04.613735Z",
     "iopub.status.busy": "2021-08-30T15:42:04.612744Z",
     "iopub.status.idle": "2021-08-30T15:42:04.619381Z",
     "shell.execute_reply": "2021-08-30T15:42:04.618861Z",
     "shell.execute_reply.started": "2021-08-30T15:19:19.662349Z"
    },
    "papermill": {
     "duration": 0.074267,
     "end_time": "2021-08-30T15:42:04.619530",
     "exception": false,
     "start_time": "2021-08-30T15:42:04.545263",
     "status": "completed"
    },
    "tags": []
   },
   "outputs": [
    {
     "name": "stdout",
     "output_type": "stream",
     "text": [
      "Test shape: (3000, 14)\n"
     ]
    }
   ],
   "source": [
    "# Look at the shape of the test data\n",
    "print('Test shape:', test.shape)"
   ]
  },
  {
   "cell_type": "markdown",
   "id": "2f4440b2",
   "metadata": {
    "papermill": {
     "duration": 0.065431,
     "end_time": "2021-08-30T15:42:04.748636",
     "exception": false,
     "start_time": "2021-08-30T15:42:04.683205",
     "status": "completed"
    },
    "tags": []
   },
   "source": [
    "## Exploratory Data Analysis (EDA) & Preprocessing"
   ]
  },
  {
   "cell_type": "markdown",
   "id": "0bfc050e",
   "metadata": {
    "papermill": {
     "duration": 0.068051,
     "end_time": "2021-08-30T15:42:04.884598",
     "exception": false,
     "start_time": "2021-08-30T15:42:04.816547",
     "status": "completed"
    },
    "tags": []
   },
   "source": [
    "<b>Data fields<b>\n",
    "-  Date : The day of the day, during 365 days, type : str\n",
    "-  Rented Bike Count : Number of rented bikes per hour which is the target, type : int\n",
    "-  Hour: The hour of the day, type : int\n",
    "-  Temperature(°C): Temperature per hour in Celsius, type : Float\n",
    "-  Humidity(%): Relative humidity in %, type : int\n",
    "-  Wind speed (m/s) : Speed of the wind in m/s, type : Float\n",
    "-  Visibility (10m): Visibility in m, type : int\n",
    "-  Dew point temperature(°C): Temperature at the beggining of the day, type : Float\n",
    "-  Solar Radiation (MJ/m2): Sun contribution, type : Float\n",
    "-  Rainfall(mm): Amount of rain in mm, type : Float\n",
    "-  Snowfall (cm): Amount of snow in cm, type : Float\n",
    "-  Seasons: Season of the year, type : str\n",
    "-  Holiday: If it is holiday period, type: str\n",
    "-  Functioning Day: whether the day is neither a weekend nor holiday, type : str"
   ]
  },
  {
   "cell_type": "code",
   "execution_count": 8,
   "id": "da136a70",
   "metadata": {
    "execution": {
     "iopub.execute_input": "2021-08-30T15:42:05.020149Z",
     "iopub.status.busy": "2021-08-30T15:42:05.019209Z",
     "iopub.status.idle": "2021-08-30T15:42:05.022761Z",
     "shell.execute_reply": "2021-08-30T15:42:05.023300Z",
     "shell.execute_reply.started": "2021-08-30T15:19:19.683313Z"
    },
    "papermill": {
     "duration": 0.074984,
     "end_time": "2021-08-30T15:42:05.023473",
     "exception": false,
     "start_time": "2021-08-30T15:42:04.948489",
     "status": "completed"
    },
    "scrolled": true,
    "tags": []
   },
   "outputs": [
    {
     "name": "stdout",
     "output_type": "stream",
     "text": [
      "Train columns: ['ID', 'Date', 'y', 'Hour', 'Temperature(�C)', 'Humidity(%)', 'Wind speed (m/s)', 'Visibility (10m)', 'Dew point temperature(�C)', 'Solar Radiation (MJ/m2)', 'Rainfall(mm)', 'Snowfall (cm)', 'Seasons', 'Holiday', 'Functioning Day']\n",
      "Test columns: ['ID', 'Date', 'Hour', 'Temperature(�C)', 'Humidity(%)', 'Wind speed (m/s)', 'Visibility (10m)', 'Dew point temperature(�C)', 'Solar Radiation (MJ/m2)', 'Rainfall(mm)', 'Snowfall (cm)', 'Seasons', 'Holiday', 'Functioning Day']\n"
     ]
    }
   ],
   "source": [
    "# Print train and test columns\n",
    "print('Train columns:', train.columns.tolist())\n",
    "print('Test columns:', test.columns.tolist())"
   ]
  },
  {
   "cell_type": "code",
   "execution_count": 9,
   "id": "38bd82dd",
   "metadata": {
    "execution": {
     "iopub.execute_input": "2021-08-30T15:42:05.163813Z",
     "iopub.status.busy": "2021-08-30T15:42:05.163072Z",
     "iopub.status.idle": "2021-08-30T15:42:05.166124Z",
     "shell.execute_reply": "2021-08-30T15:42:05.166591Z",
     "shell.execute_reply.started": "2021-08-30T15:19:19.708564Z"
    },
    "papermill": {
     "duration": 0.075723,
     "end_time": "2021-08-30T15:42:05.166766",
     "exception": false,
     "start_time": "2021-08-30T15:42:05.091043",
     "status": "completed"
    },
    "tags": []
   },
   "outputs": [
    {
     "data": {
      "text/plain": [
       "ID                             int64\n",
       "Date                          object\n",
       "y                              int64\n",
       "Hour                           int64\n",
       "Temperature(�C)              float64\n",
       "Humidity(%)                    int64\n",
       "Wind speed (m/s)             float64\n",
       "Visibility (10m)               int64\n",
       "Dew point temperature(�C)    float64\n",
       "Solar Radiation (MJ/m2)      float64\n",
       "Rainfall(mm)                 float64\n",
       "Snowfall (cm)                float64\n",
       "Seasons                       object\n",
       "Holiday                       object\n",
       "Functioning Day               object\n",
       "dtype: object"
      ]
     },
     "execution_count": 9,
     "metadata": {},
     "output_type": "execute_result"
    }
   ],
   "source": [
    "train.dtypes"
   ]
  },
  {
   "cell_type": "code",
   "execution_count": 10,
   "id": "8978d999",
   "metadata": {
    "execution": {
     "iopub.execute_input": "2021-08-30T15:42:05.302519Z",
     "iopub.status.busy": "2021-08-30T15:42:05.301881Z",
     "iopub.status.idle": "2021-08-30T15:42:05.354410Z",
     "shell.execute_reply": "2021-08-30T15:42:05.354872Z",
     "shell.execute_reply.started": "2021-08-30T15:19:19.793431Z"
    },
    "papermill": {
     "duration": 0.122271,
     "end_time": "2021-08-30T15:42:05.355047",
     "exception": false,
     "start_time": "2021-08-30T15:42:05.232776",
     "status": "completed"
    },
    "tags": []
   },
   "outputs": [
    {
     "data": {
      "text/html": [
       "<div>\n",
       "<style scoped>\n",
       "    .dataframe tbody tr th:only-of-type {\n",
       "        vertical-align: middle;\n",
       "    }\n",
       "\n",
       "    .dataframe tbody tr th {\n",
       "        vertical-align: top;\n",
       "    }\n",
       "\n",
       "    .dataframe thead th {\n",
       "        text-align: right;\n",
       "    }\n",
       "</style>\n",
       "<table border=\"1\" class=\"dataframe\">\n",
       "  <thead>\n",
       "    <tr style=\"text-align: right;\">\n",
       "      <th></th>\n",
       "      <th>count</th>\n",
       "      <th>mean</th>\n",
       "      <th>std</th>\n",
       "      <th>min</th>\n",
       "      <th>25%</th>\n",
       "      <th>50%</th>\n",
       "      <th>75%</th>\n",
       "      <th>max</th>\n",
       "    </tr>\n",
       "  </thead>\n",
       "  <tbody>\n",
       "    <tr>\n",
       "      <th>y</th>\n",
       "      <td>5760.0</td>\n",
       "      <td>703.483854</td>\n",
       "      <td>655.249491</td>\n",
       "      <td>0.0</td>\n",
       "      <td>188.00</td>\n",
       "      <td>485.50</td>\n",
       "      <td>1066.000</td>\n",
       "      <td>3556.00</td>\n",
       "    </tr>\n",
       "    <tr>\n",
       "      <th>Hour</th>\n",
       "      <td>5760.0</td>\n",
       "      <td>11.500000</td>\n",
       "      <td>6.922788</td>\n",
       "      <td>0.0</td>\n",
       "      <td>5.75</td>\n",
       "      <td>11.50</td>\n",
       "      <td>17.250</td>\n",
       "      <td>23.00</td>\n",
       "    </tr>\n",
       "    <tr>\n",
       "      <th>Temperature(�C)</th>\n",
       "      <td>5760.0</td>\n",
       "      <td>12.803559</td>\n",
       "      <td>11.902206</td>\n",
       "      <td>-15.1</td>\n",
       "      <td>3.20</td>\n",
       "      <td>13.70</td>\n",
       "      <td>22.225</td>\n",
       "      <td>39.40</td>\n",
       "    </tr>\n",
       "    <tr>\n",
       "      <th>Humidity(%)</th>\n",
       "      <td>5760.0</td>\n",
       "      <td>58.361806</td>\n",
       "      <td>19.840167</td>\n",
       "      <td>0.0</td>\n",
       "      <td>43.00</td>\n",
       "      <td>57.00</td>\n",
       "      <td>73.000</td>\n",
       "      <td>98.00</td>\n",
       "    </tr>\n",
       "    <tr>\n",
       "      <th>Wind speed (m/s)</th>\n",
       "      <td>5760.0</td>\n",
       "      <td>1.723333</td>\n",
       "      <td>1.047898</td>\n",
       "      <td>0.0</td>\n",
       "      <td>0.90</td>\n",
       "      <td>1.50</td>\n",
       "      <td>2.300</td>\n",
       "      <td>7.40</td>\n",
       "    </tr>\n",
       "    <tr>\n",
       "      <th>Visibility (10m)</th>\n",
       "      <td>5760.0</td>\n",
       "      <td>1473.711458</td>\n",
       "      <td>585.879880</td>\n",
       "      <td>27.0</td>\n",
       "      <td>1025.75</td>\n",
       "      <td>1732.00</td>\n",
       "      <td>2000.000</td>\n",
       "      <td>2000.00</td>\n",
       "    </tr>\n",
       "    <tr>\n",
       "      <th>Dew point temperature(�C)</th>\n",
       "      <td>5760.0</td>\n",
       "      <td>4.058264</td>\n",
       "      <td>13.003582</td>\n",
       "      <td>-26.9</td>\n",
       "      <td>-5.40</td>\n",
       "      <td>5.20</td>\n",
       "      <td>14.700</td>\n",
       "      <td>27.20</td>\n",
       "    </tr>\n",
       "    <tr>\n",
       "      <th>Solar Radiation (MJ/m2)</th>\n",
       "      <td>5760.0</td>\n",
       "      <td>0.572325</td>\n",
       "      <td>0.869943</td>\n",
       "      <td>0.0</td>\n",
       "      <td>0.00</td>\n",
       "      <td>0.01</td>\n",
       "      <td>0.940</td>\n",
       "      <td>3.52</td>\n",
       "    </tr>\n",
       "    <tr>\n",
       "      <th>Rainfall(mm)</th>\n",
       "      <td>5760.0</td>\n",
       "      <td>0.135122</td>\n",
       "      <td>1.075320</td>\n",
       "      <td>0.0</td>\n",
       "      <td>0.00</td>\n",
       "      <td>0.00</td>\n",
       "      <td>0.000</td>\n",
       "      <td>35.00</td>\n",
       "    </tr>\n",
       "    <tr>\n",
       "      <th>Snowfall (cm)</th>\n",
       "      <td>5760.0</td>\n",
       "      <td>0.046302</td>\n",
       "      <td>0.323728</td>\n",
       "      <td>0.0</td>\n",
       "      <td>0.00</td>\n",
       "      <td>0.00</td>\n",
       "      <td>0.000</td>\n",
       "      <td>5.10</td>\n",
       "    </tr>\n",
       "  </tbody>\n",
       "</table>\n",
       "</div>"
      ],
      "text/plain": [
       "                            count         mean         std   min      25%  \\\n",
       "y                          5760.0   703.483854  655.249491   0.0   188.00   \n",
       "Hour                       5760.0    11.500000    6.922788   0.0     5.75   \n",
       "Temperature(�C)            5760.0    12.803559   11.902206 -15.1     3.20   \n",
       "Humidity(%)                5760.0    58.361806   19.840167   0.0    43.00   \n",
       "Wind speed (m/s)           5760.0     1.723333    1.047898   0.0     0.90   \n",
       "Visibility (10m)           5760.0  1473.711458  585.879880  27.0  1025.75   \n",
       "Dew point temperature(�C)  5760.0     4.058264   13.003582 -26.9    -5.40   \n",
       "Solar Radiation (MJ/m2)    5760.0     0.572325    0.869943   0.0     0.00   \n",
       "Rainfall(mm)               5760.0     0.135122    1.075320   0.0     0.00   \n",
       "Snowfall (cm)              5760.0     0.046302    0.323728   0.0     0.00   \n",
       "\n",
       "                               50%       75%      max  \n",
       "y                           485.50  1066.000  3556.00  \n",
       "Hour                         11.50    17.250    23.00  \n",
       "Temperature(�C)              13.70    22.225    39.40  \n",
       "Humidity(%)                  57.00    73.000    98.00  \n",
       "Wind speed (m/s)              1.50     2.300     7.40  \n",
       "Visibility (10m)           1732.00  2000.000  2000.00  \n",
       "Dew point temperature(�C)     5.20    14.700    27.20  \n",
       "Solar Radiation (MJ/m2)       0.01     0.940     3.52  \n",
       "Rainfall(mm)                  0.00     0.000    35.00  \n",
       "Snowfall (cm)                 0.00     0.000     5.10  "
      ]
     },
     "execution_count": 10,
     "metadata": {},
     "output_type": "execute_result"
    }
   ],
   "source": [
    "#Summary of the dataset\n",
    "train.drop(columns='ID').describe().T"
   ]
  },
  {
   "cell_type": "markdown",
   "id": "d6741ea3",
   "metadata": {
    "papermill": {
     "duration": 0.066891,
     "end_time": "2021-08-30T15:42:05.489330",
     "exception": false,
     "start_time": "2021-08-30T15:42:05.422439",
     "status": "completed"
    },
    "tags": []
   },
   "source": [
    "Missing value analysis"
   ]
  },
  {
   "cell_type": "code",
   "execution_count": 11,
   "id": "a067471e",
   "metadata": {
    "execution": {
     "iopub.execute_input": "2021-08-30T15:42:05.625026Z",
     "iopub.status.busy": "2021-08-30T15:42:05.624351Z",
     "iopub.status.idle": "2021-08-30T15:42:05.635892Z",
     "shell.execute_reply": "2021-08-30T15:42:05.635343Z",
     "shell.execute_reply.started": "2021-08-30T15:19:19.842961Z"
    },
    "papermill": {
     "duration": 0.079992,
     "end_time": "2021-08-30T15:42:05.636042",
     "exception": false,
     "start_time": "2021-08-30T15:42:05.556050",
     "status": "completed"
    },
    "tags": []
   },
   "outputs": [
    {
     "data": {
      "text/plain": [
       "ID                           0\n",
       "Date                         0\n",
       "y                            0\n",
       "Hour                         0\n",
       "Temperature(�C)              0\n",
       "Humidity(%)                  0\n",
       "Wind speed (m/s)             0\n",
       "Visibility (10m)             0\n",
       "Dew point temperature(�C)    0\n",
       "Solar Radiation (MJ/m2)      0\n",
       "Rainfall(mm)                 0\n",
       "Snowfall (cm)                0\n",
       "Seasons                      0\n",
       "Holiday                      0\n",
       "Functioning Day              0\n",
       "dtype: int64"
      ]
     },
     "execution_count": 11,
     "metadata": {},
     "output_type": "execute_result"
    }
   ],
   "source": [
    "#Missing values in dataset\n",
    "train.isnull().sum()"
   ]
  },
  {
   "cell_type": "code",
   "execution_count": 12,
   "id": "b0e8ac9b",
   "metadata": {
    "execution": {
     "iopub.execute_input": "2021-08-30T15:42:05.774594Z",
     "iopub.status.busy": "2021-08-30T15:42:05.773732Z",
     "iopub.status.idle": "2021-08-30T15:42:05.783016Z",
     "shell.execute_reply": "2021-08-30T15:42:05.783537Z",
     "shell.execute_reply.started": "2021-08-30T15:19:19.856299Z"
    },
    "papermill": {
     "duration": 0.082377,
     "end_time": "2021-08-30T15:42:05.783716",
     "exception": false,
     "start_time": "2021-08-30T15:42:05.701339",
     "status": "completed"
    },
    "tags": []
   },
   "outputs": [],
   "source": [
    "# Convert date to datetime object\n",
    "train['Date']=pd.to_datetime(train['Date'],format=\"%d/%m/%Y\")"
   ]
  },
  {
   "cell_type": "markdown",
   "id": "bb4264ff",
   "metadata": {
    "papermill": {
     "duration": 0.066686,
     "end_time": "2021-08-30T15:42:05.920395",
     "exception": false,
     "start_time": "2021-08-30T15:42:05.853709",
     "status": "completed"
    },
    "tags": []
   },
   "source": [
    "### Features Correlation"
   ]
  },
  {
   "cell_type": "code",
   "execution_count": 13,
   "id": "6b409868",
   "metadata": {
    "execution": {
     "iopub.execute_input": "2021-08-30T15:42:06.068128Z",
     "iopub.status.busy": "2021-08-30T15:42:06.067477Z",
     "iopub.status.idle": "2021-08-30T15:42:07.089315Z",
     "shell.execute_reply": "2021-08-30T15:42:07.090251Z",
     "shell.execute_reply.started": "2021-08-30T15:19:19.873573Z"
    },
    "papermill": {
     "duration": 1.099256,
     "end_time": "2021-08-30T15:42:07.090602",
     "exception": false,
     "start_time": "2021-08-30T15:42:05.991346",
     "status": "completed"
    },
    "tags": []
   },
   "outputs": [
    {
     "data": {
      "image/png": "[encoded data removed]",
      "text/plain": [
       "<Figure size 720x720 with 2 Axes>"
      ]
     },
     "metadata": {
      "needs_background": "light"
     },
     "output_type": "display_data"
    }
   ],
   "source": [
    "#Create  features correlation Matrix\n",
    "plt.figure(figsize=(10,10))\n",
    "sns.heatmap(train.drop(columns='ID').corr(\"pearson\"),\n",
    "            vmin=-1, vmax=1,\n",
    "            cmap='Blues',\n",
    "            annot=True, \n",
    "            square=True);"
   ]
  },
  {
   "cell_type": "markdown",
   "id": "ff56276d",
   "metadata": {
    "papermill": {
     "duration": 0.077201,
     "end_time": "2021-08-30T15:42:07.242186",
     "exception": false,
     "start_time": "2021-08-30T15:42:07.164985",
     "status": "completed"
    },
    "tags": []
   },
   "source": [
    "It is obvious that the target variable y (counts) is most correlated with :\n",
    "- Hour\n",
    "- Temperature\n",
    "- Dew point temperature\n",
    "- Solar radiation\n",
    "\n",
    "But we can also observe that there is high correlation between Temperature and Dew point temperature so we can drop the column 'Dew point temperature(°C)."
   ]
  },
  {
   "cell_type": "code",
   "execution_count": 14,
   "id": "c1cd4956",
   "metadata": {
    "execution": {
     "iopub.execute_input": "2021-08-30T15:42:07.404372Z",
     "iopub.status.busy": "2021-08-30T15:42:07.403585Z",
     "iopub.status.idle": "2021-08-30T15:42:07.411374Z",
     "shell.execute_reply": "2021-08-30T15:42:07.410548Z",
     "shell.execute_reply.started": "2021-08-30T15:19:20.789862Z"
    },
    "papermill": {
     "duration": 0.091244,
     "end_time": "2021-08-30T15:42:07.411691",
     "exception": false,
     "start_time": "2021-08-30T15:42:07.320447",
     "status": "completed"
    },
    "tags": []
   },
   "outputs": [],
   "source": [
    "train=train.drop(columns='Dew point temperature(�C)')\n"
   ]
  },
  {
   "cell_type": "code",
   "execution_count": 15,
   "id": "a2403fee",
   "metadata": {
    "execution": {
     "iopub.execute_input": "2021-08-30T15:42:07.569610Z",
     "iopub.status.busy": "2021-08-30T15:42:07.568975Z",
     "iopub.status.idle": "2021-08-30T15:42:07.623502Z",
     "shell.execute_reply": "2021-08-30T15:42:07.623993Z",
     "shell.execute_reply.started": "2021-08-30T15:19:20.798635Z"
    },
    "papermill": {
     "duration": 0.13681,
     "end_time": "2021-08-30T15:42:07.624370",
     "exception": false,
     "start_time": "2021-08-30T15:42:07.487560",
     "status": "completed"
    },
    "tags": []
   },
   "outputs": [
    {
     "data": {
      "text/html": [
       "<style  type=\"text/css\" >\n",
       "#T_5ca1e_row0_col0{\n",
       "            background-color:  #0000ff;\n",
       "            color:  #f1f1f1;\n",
       "        }#T_5ca1e_row1_col0{\n",
       "            background-color:  #5b5bfa;\n",
       "            color:  #f1f1f1;\n",
       "        }#T_5ca1e_row2_col0{\n",
       "            background-color:  #7878f9;\n",
       "            color:  #000000;\n",
       "        }#T_5ca1e_row3_col0{\n",
       "            background-color:  #8080f8;\n",
       "            color:  #000000;\n",
       "        }#T_5ca1e_row4_col0{\n",
       "            background-color:  #9797f7;\n",
       "            color:  #000000;\n",
       "        }#T_5ca1e_row5_col0{\n",
       "            background-color:  #9e9ef7;\n",
       "            color:  #000000;\n",
       "        }#T_5ca1e_row6_col0{\n",
       "            background-color:  #b2b2f6;\n",
       "            color:  #000000;\n",
       "        }#T_5ca1e_row7_col0,#T_5ca1e_row8_col0{\n",
       "            background-color:  #e2e2f3;\n",
       "            color:  #000000;\n",
       "        }#T_5ca1e_row9_col0{\n",
       "            background-color:  #f0f0f3;\n",
       "            color:  #000000;\n",
       "        }</style><table id=\"T_5ca1e_\" ><thead>    <tr>        <th class=\"blank level0\" ></th>        <th class=\"col_heading level0 col0\" >Correlation with the target</th>    </tr></thead><tbody>\n",
       "                <tr>\n",
       "                        <th id=\"T_5ca1e_level0_row0\" class=\"row_heading level0 row0\" >y</th>\n",
       "                        <td id=\"T_5ca1e_row0_col0\" class=\"data row0 col0\" >1.000000</td>\n",
       "            </tr>\n",
       "            <tr>\n",
       "                        <th id=\"T_5ca1e_level0_row1\" class=\"row_heading level0 row1\" >Temperature(�C)</th>\n",
       "                        <td id=\"T_5ca1e_row1_col0\" class=\"data row1 col0\" >0.544281</td>\n",
       "            </tr>\n",
       "            <tr>\n",
       "                        <th id=\"T_5ca1e_level0_row2\" class=\"row_heading level0 row2\" >Hour</th>\n",
       "                        <td id=\"T_5ca1e_row2_col0\" class=\"data row2 col0\" >0.407180</td>\n",
       "            </tr>\n",
       "            <tr>\n",
       "                        <th id=\"T_5ca1e_level0_row3\" class=\"row_heading level0 row3\" >ID</th>\n",
       "                        <td id=\"T_5ca1e_row3_col0\" class=\"data row3 col0\" >0.365359</td>\n",
       "            </tr>\n",
       "            <tr>\n",
       "                        <th id=\"T_5ca1e_level0_row4\" class=\"row_heading level0 row4\" >Solar Radiation (MJ/m2)</th>\n",
       "                        <td id=\"T_5ca1e_row4_col0\" class=\"data row4 col0\" >0.250601</td>\n",
       "            </tr>\n",
       "            <tr>\n",
       "                        <th id=\"T_5ca1e_level0_row5\" class=\"row_heading level0 row5\" >Visibility (10m)</th>\n",
       "                        <td id=\"T_5ca1e_row5_col0\" class=\"data row5 col0\" >0.214777</td>\n",
       "            </tr>\n",
       "            <tr>\n",
       "                        <th id=\"T_5ca1e_level0_row6\" class=\"row_heading level0 row6\" >Wind speed (m/s)</th>\n",
       "                        <td id=\"T_5ca1e_row6_col0\" class=\"data row6 col0\" >0.116380</td>\n",
       "            </tr>\n",
       "            <tr>\n",
       "                        <th id=\"T_5ca1e_level0_row7\" class=\"row_heading level0 row7\" >Rainfall(mm)</th>\n",
       "                        <td id=\"T_5ca1e_row7_col0\" class=\"data row7 col0\" >-0.117711</td>\n",
       "            </tr>\n",
       "            <tr>\n",
       "                        <th id=\"T_5ca1e_level0_row8\" class=\"row_heading level0 row8\" >Snowfall (cm)</th>\n",
       "                        <td id=\"T_5ca1e_row8_col0\" class=\"data row8 col0\" >-0.120836</td>\n",
       "            </tr>\n",
       "            <tr>\n",
       "                        <th id=\"T_5ca1e_level0_row9\" class=\"row_heading level0 row9\" >Humidity(%)</th>\n",
       "                        <td id=\"T_5ca1e_row9_col0\" class=\"data row9 col0\" >-0.191603</td>\n",
       "            </tr>\n",
       "    </tbody></table>"
      ],
      "text/plain": [
       "<pandas.io.formats.style.Styler at 0x7f8cfff31e10>"
      ]
     },
     "execution_count": 15,
     "metadata": {},
     "output_type": "execute_result"
    }
   ],
   "source": [
    "#create a sorted list of the most correlated features \n",
    "Corr=pd.DataFrame(train.corr().unstack().sort_values(ascending=False)['y'],columns=['Correlation with the target'])\n",
    "Corr.style.background_gradient(cmap=sns.light_palette(\"blue\", as_cmap=True))\n"
   ]
  },
  {
   "cell_type": "markdown",
   "id": "26803074",
   "metadata": {
    "papermill": {
     "duration": 0.071449,
     "end_time": "2021-08-30T15:42:07.775595",
     "exception": false,
     "start_time": "2021-08-30T15:42:07.704146",
     "status": "completed"
    },
    "tags": []
   },
   "source": [
    "## Data Preparation and data Visualisation using Matplotlib and seaborn"
   ]
  },
  {
   "cell_type": "code",
   "execution_count": 16,
   "id": "c5027408",
   "metadata": {
    "execution": {
     "iopub.execute_input": "2021-08-30T15:42:07.943437Z",
     "iopub.status.busy": "2021-08-30T15:42:07.942741Z",
     "iopub.status.idle": "2021-08-30T15:42:08.195149Z",
     "shell.execute_reply": "2021-08-30T15:42:08.195833Z",
     "shell.execute_reply.started": "2021-08-30T15:19:20.826173Z"
    },
    "papermill": {
     "duration": 0.342767,
     "end_time": "2021-08-30T15:42:08.196047",
     "exception": false,
     "start_time": "2021-08-30T15:42:07.853280",
     "status": "completed"
    },
    "tags": []
   },
   "outputs": [
    {
     "data": {
      "image/png": "[encoded data removed]",
      "text/plain": [
       "<Figure size 432x288 with 1 Axes>"
      ]
     },
     "metadata": {
      "needs_background": "light"
     },
     "output_type": "display_data"
    }
   ],
   "source": [
    "# Find median counts for each hour\n",
    "hour_counts = train.groupby('Hour', as_index=False)['y'].median()\n",
    "# Plot the line plot\n",
    "plt.plot(hour_counts['Hour'], hour_counts[\"y\"], marker='o')\n",
    "plt.xlabel('Hour of the day')\n",
    "plt.ylabel('Median of Counts')\n",
    "plt.title('Count Across Hour of The Day')\n",
    "plt.xticks(range(24))\n",
    "plt.show()"
   ]
  },
  {
   "cell_type": "markdown",
   "id": "0661017d",
   "metadata": {
    "papermill": {
     "duration": 0.077762,
     "end_time": "2021-08-30T15:42:08.354069",
     "exception": false,
     "start_time": "2021-08-30T15:42:08.276307",
     "status": "completed"
    },
    "tags": []
   },
   "source": [
    "Great! We see that counts are a bit higher during the evening. It is a good indicator that we should include the \"hour\" feature in the final model, or at least add a binary feature \"Is_night\".\n"
   ]
  },
  {
   "cell_type": "code",
   "execution_count": 17,
   "id": "049c88dc",
   "metadata": {
    "execution": {
     "iopub.execute_input": "2021-08-30T15:42:08.521727Z",
     "iopub.status.busy": "2021-08-30T15:42:08.520709Z",
     "iopub.status.idle": "2021-08-30T15:42:08.525020Z",
     "shell.execute_reply": "2021-08-30T15:42:08.523969Z",
     "shell.execute_reply.started": "2021-08-30T15:19:21.034963Z"
    },
    "papermill": {
     "duration": 0.093037,
     "end_time": "2021-08-30T15:42:08.525203",
     "exception": false,
     "start_time": "2021-08-30T15:42:08.432166",
     "status": "completed"
    },
    "tags": []
   },
   "outputs": [],
   "source": [
    "#create a new feature to inform if it is a day or night time\n",
    "train['Is_night']=train['Hour'].apply(lambda x : 'Night' if (x >20 or x<5) else( 'Day'))"
   ]
  },
  {
   "cell_type": "code",
   "execution_count": 18,
   "id": "5e6bcc57",
   "metadata": {
    "execution": {
     "iopub.execute_input": "2021-08-30T15:42:08.685257Z",
     "iopub.status.busy": "2021-08-30T15:42:08.684553Z",
     "iopub.status.idle": "2021-08-30T15:42:08.714504Z",
     "shell.execute_reply": "2021-08-30T15:42:08.713844Z",
     "shell.execute_reply.started": "2021-08-30T15:19:21.044752Z"
    },
    "papermill": {
     "duration": 0.116178,
     "end_time": "2021-08-30T15:42:08.714651",
     "exception": false,
     "start_time": "2021-08-30T15:42:08.598473",
     "status": "completed"
    },
    "tags": []
   },
   "outputs": [
    {
     "data": {
      "text/html": [
       "<div>\n",
       "<style scoped>\n",
       "    .dataframe tbody tr th:only-of-type {\n",
       "        vertical-align: middle;\n",
       "    }\n",
       "\n",
       "    .dataframe tbody tr th {\n",
       "        vertical-align: top;\n",
       "    }\n",
       "\n",
       "    .dataframe thead th {\n",
       "        text-align: right;\n",
       "    }\n",
       "</style>\n",
       "<table border=\"1\" class=\"dataframe\">\n",
       "  <thead>\n",
       "    <tr style=\"text-align: right;\">\n",
       "      <th></th>\n",
       "      <th>ID</th>\n",
       "      <th>Date</th>\n",
       "      <th>y</th>\n",
       "      <th>Hour</th>\n",
       "      <th>Temperature(�C)</th>\n",
       "      <th>Humidity(%)</th>\n",
       "      <th>Wind speed (m/s)</th>\n",
       "      <th>Visibility (10m)</th>\n",
       "      <th>Solar Radiation (MJ/m2)</th>\n",
       "      <th>Rainfall(mm)</th>\n",
       "      <th>Snowfall (cm)</th>\n",
       "      <th>Seasons</th>\n",
       "      <th>Holiday</th>\n",
       "      <th>Functioning Day</th>\n",
       "      <th>Is_night</th>\n",
       "      <th>WeekDay</th>\n",
       "      <th>DayofWeek</th>\n",
       "      <th>Month</th>\n",
       "    </tr>\n",
       "  </thead>\n",
       "  <tbody>\n",
       "    <tr>\n",
       "      <th>0</th>\n",
       "      <td>0</td>\n",
       "      <td>2017-12-01</td>\n",
       "      <td>254</td>\n",
       "      <td>0</td>\n",
       "      <td>-5.2</td>\n",
       "      <td>37</td>\n",
       "      <td>2.2</td>\n",
       "      <td>2000</td>\n",
       "      <td>0.0</td>\n",
       "      <td>0.0</td>\n",
       "      <td>0.0</td>\n",
       "      <td>Winter</td>\n",
       "      <td>No Holiday</td>\n",
       "      <td>Yes</td>\n",
       "      <td>Night</td>\n",
       "      <td>Friday</td>\n",
       "      <td>4</td>\n",
       "      <td>12</td>\n",
       "    </tr>\n",
       "    <tr>\n",
       "      <th>1</th>\n",
       "      <td>1</td>\n",
       "      <td>2017-12-01</td>\n",
       "      <td>204</td>\n",
       "      <td>1</td>\n",
       "      <td>-5.5</td>\n",
       "      <td>38</td>\n",
       "      <td>0.8</td>\n",
       "      <td>2000</td>\n",
       "      <td>0.0</td>\n",
       "      <td>0.0</td>\n",
       "      <td>0.0</td>\n",
       "      <td>Winter</td>\n",
       "      <td>No Holiday</td>\n",
       "      <td>Yes</td>\n",
       "      <td>Night</td>\n",
       "      <td>Friday</td>\n",
       "      <td>4</td>\n",
       "      <td>12</td>\n",
       "    </tr>\n",
       "    <tr>\n",
       "      <th>2</th>\n",
       "      <td>2</td>\n",
       "      <td>2017-12-01</td>\n",
       "      <td>173</td>\n",
       "      <td>2</td>\n",
       "      <td>-6.0</td>\n",
       "      <td>39</td>\n",
       "      <td>1.0</td>\n",
       "      <td>2000</td>\n",
       "      <td>0.0</td>\n",
       "      <td>0.0</td>\n",
       "      <td>0.0</td>\n",
       "      <td>Winter</td>\n",
       "      <td>No Holiday</td>\n",
       "      <td>Yes</td>\n",
       "      <td>Night</td>\n",
       "      <td>Friday</td>\n",
       "      <td>4</td>\n",
       "      <td>12</td>\n",
       "    </tr>\n",
       "    <tr>\n",
       "      <th>3</th>\n",
       "      <td>3</td>\n",
       "      <td>2017-12-01</td>\n",
       "      <td>107</td>\n",
       "      <td>3</td>\n",
       "      <td>-6.2</td>\n",
       "      <td>40</td>\n",
       "      <td>0.9</td>\n",
       "      <td>2000</td>\n",
       "      <td>0.0</td>\n",
       "      <td>0.0</td>\n",
       "      <td>0.0</td>\n",
       "      <td>Winter</td>\n",
       "      <td>No Holiday</td>\n",
       "      <td>Yes</td>\n",
       "      <td>Night</td>\n",
       "      <td>Friday</td>\n",
       "      <td>4</td>\n",
       "      <td>12</td>\n",
       "    </tr>\n",
       "    <tr>\n",
       "      <th>4</th>\n",
       "      <td>4</td>\n",
       "      <td>2017-12-01</td>\n",
       "      <td>78</td>\n",
       "      <td>4</td>\n",
       "      <td>-6.0</td>\n",
       "      <td>36</td>\n",
       "      <td>2.3</td>\n",
       "      <td>2000</td>\n",
       "      <td>0.0</td>\n",
       "      <td>0.0</td>\n",
       "      <td>0.0</td>\n",
       "      <td>Winter</td>\n",
       "      <td>No Holiday</td>\n",
       "      <td>Yes</td>\n",
       "      <td>Night</td>\n",
       "      <td>Friday</td>\n",
       "      <td>4</td>\n",
       "      <td>12</td>\n",
       "    </tr>\n",
       "  </tbody>\n",
       "</table>\n",
       "</div>"
      ],
      "text/plain": [
       "   ID       Date    y  Hour  Temperature(�C)  Humidity(%)  Wind speed (m/s)  \\\n",
       "0   0 2017-12-01  254     0             -5.2           37               2.2   \n",
       "1   1 2017-12-01  204     1             -5.5           38               0.8   \n",
       "2   2 2017-12-01  173     2             -6.0           39               1.0   \n",
       "3   3 2017-12-01  107     3             -6.2           40               0.9   \n",
       "4   4 2017-12-01   78     4             -6.0           36               2.3   \n",
       "\n",
       "   Visibility (10m)  Solar Radiation (MJ/m2)  Rainfall(mm)  Snowfall (cm)  \\\n",
       "0              2000                      0.0           0.0            0.0   \n",
       "1              2000                      0.0           0.0            0.0   \n",
       "2              2000                      0.0           0.0            0.0   \n",
       "3              2000                      0.0           0.0            0.0   \n",
       "4              2000                      0.0           0.0            0.0   \n",
       "\n",
       "  Seasons     Holiday Functioning Day Is_night WeekDay  DayofWeek  Month  \n",
       "0  Winter  No Holiday             Yes    Night  Friday          4     12  \n",
       "1  Winter  No Holiday             Yes    Night  Friday          4     12  \n",
       "2  Winter  No Holiday             Yes    Night  Friday          4     12  \n",
       "3  Winter  No Holiday             Yes    Night  Friday          4     12  \n",
       "4  Winter  No Holiday             Yes    Night  Friday          4     12  "
      ]
     },
     "execution_count": 18,
     "metadata": {},
     "output_type": "execute_result"
    }
   ],
   "source": [
    "#create a name of day of the week feature\n",
    "train['WeekDay']=train[\"Date\"].dt.day_name()\n",
    "# Create a day of week feature\n",
    "train['DayofWeek'] = train['Date'].dt.dayofweek\n",
    "# Create an month feature\n",
    "train['Month'] = train['Date'].dt.month\n",
    "train.head()"
   ]
  },
  {
   "cell_type": "markdown",
   "id": "12e2351b",
   "metadata": {
    "papermill": {
     "duration": 0.076415,
     "end_time": "2021-08-30T15:42:08.867005",
     "exception": false,
     "start_time": "2021-08-30T15:42:08.790590",
     "status": "completed"
    },
    "tags": []
   },
   "source": [
    "### Plotting Variables-Target Relationships"
   ]
  },
  {
   "cell_type": "code",
   "execution_count": 19,
   "id": "f6ff217d",
   "metadata": {
    "execution": {
     "iopub.execute_input": "2021-08-30T15:42:09.022976Z",
     "iopub.status.busy": "2021-08-30T15:42:09.022285Z",
     "iopub.status.idle": "2021-08-30T15:42:09.295468Z",
     "shell.execute_reply": "2021-08-30T15:42:09.294816Z",
     "shell.execute_reply.started": "2021-08-30T15:19:21.083790Z"
    },
    "papermill": {
     "duration": 0.3522,
     "end_time": "2021-08-30T15:42:09.295610",
     "exception": false,
     "start_time": "2021-08-30T15:42:08.943410",
     "status": "completed"
    },
    "scrolled": true,
    "tags": []
   },
   "outputs": [
    {
     "data": {
      "image/png": "[encoded data removed]",
      "text/plain": [
       "<Figure size 432x288 with 1 Axes>"
      ]
     },
     "metadata": {
      "needs_background": "light"
     },
     "output_type": "display_data"
    }
   ],
   "source": [
    "#Plot Date feature vs target \n",
    "train.plot(x='Date',y='y',kind='line')\n",
    "plt.show()"
   ]
  },
  {
   "cell_type": "markdown",
   "id": "b1b52431",
   "metadata": {
    "papermill": {
     "duration": 0.077339,
     "end_time": "2021-08-30T15:42:09.452205",
     "exception": false,
     "start_time": "2021-08-30T15:42:09.374866",
     "status": "completed"
    },
    "tags": []
   },
   "source": [
    "It is quite obvious that the summer season has the most rentalss as might be expected "
   ]
  },
  {
   "cell_type": "code",
   "execution_count": 20,
   "id": "ddc53ce5",
   "metadata": {
    "execution": {
     "iopub.execute_input": "2021-08-30T15:42:09.615877Z",
     "iopub.status.busy": "2021-08-30T15:42:09.615199Z",
     "iopub.status.idle": "2021-08-30T15:42:09.630528Z",
     "shell.execute_reply": "2021-08-30T15:42:09.629915Z",
     "shell.execute_reply.started": "2021-08-30T15:19:21.282371Z"
    },
    "papermill": {
     "duration": 0.100331,
     "end_time": "2021-08-30T15:42:09.630671",
     "exception": false,
     "start_time": "2021-08-30T15:42:09.530340",
     "status": "completed"
    },
    "tags": []
   },
   "outputs": [
    {
     "data": {
      "text/html": [
       "<style  type=\"text/css\" >\n",
       "#T_74263_row0_col0{\n",
       "            background-color:  #0000ff;\n",
       "            color:  #f1f1f1;\n",
       "        }#T_74263_row1_col0{\n",
       "            background-color:  #4444fc;\n",
       "            color:  #f1f1f1;\n",
       "        }#T_74263_row2_col0{\n",
       "            background-color:  #7a7af9;\n",
       "            color:  #000000;\n",
       "        }#T_74263_row3_col0{\n",
       "            background-color:  #f0f0f3;\n",
       "            color:  #000000;\n",
       "        }</style><table id=\"T_74263_\" ><thead>    <tr>        <th class=\"blank level0\" ></th>        <th class=\"col_heading level0 col0\" >y</th>    </tr>    <tr>        <th class=\"index_name level0\" >Seasons</th>        <th class=\"blank\" ></th>    </tr></thead><tbody>\n",
       "                <tr>\n",
       "                        <th id=\"T_74263_level0_row0\" class=\"row_heading level0 row0\" >Summer</th>\n",
       "                        <td id=\"T_74263_row0_col0\" class=\"data row0 col0\" >1563416</td>\n",
       "            </tr>\n",
       "            <tr>\n",
       "                        <th id=\"T_74263_level0_row1\" class=\"row_heading level0 row1\" >Autumn</th>\n",
       "                        <td id=\"T_74263_row1_col0\" class=\"data row1 col0\" >1214630</td>\n",
       "            </tr>\n",
       "            <tr>\n",
       "                        <th id=\"T_74263_level0_row2\" class=\"row_heading level0 row2\" >Spring</th>\n",
       "                        <td id=\"T_74263_row2_col0\" class=\"data row2 col0\" >940276</td>\n",
       "            </tr>\n",
       "            <tr>\n",
       "                        <th id=\"T_74263_level0_row3\" class=\"row_heading level0 row3\" >Winter</th>\n",
       "                        <td id=\"T_74263_row3_col0\" class=\"data row3 col0\" >333745</td>\n",
       "            </tr>\n",
       "    </tbody></table>"
      ],
      "text/plain": [
       "<pandas.io.formats.style.Styler at 0x7f8cec1eca90>"
      ]
     },
     "execution_count": 20,
     "metadata": {},
     "output_type": "execute_result"
    }
   ],
   "source": [
    "seasons_counts=pd.DataFrame(train.groupby('Seasons')['y'].sum().sort_values(ascending=False))\n",
    "seasons_counts.style.background_gradient(cmap=sns.light_palette(\"blue\", as_cmap=True))"
   ]
  },
  {
   "cell_type": "code",
   "execution_count": 21,
   "id": "7acc8bde",
   "metadata": {
    "execution": {
     "iopub.execute_input": "2021-08-30T15:42:09.794327Z",
     "iopub.status.busy": "2021-08-30T15:42:09.793667Z",
     "iopub.status.idle": "2021-08-30T15:42:10.070707Z",
     "shell.execute_reply": "2021-08-30T15:42:10.070157Z",
     "shell.execute_reply.started": "2021-08-30T15:19:21.300234Z"
    },
    "papermill": {
     "duration": 0.360333,
     "end_time": "2021-08-30T15:42:10.070877",
     "exception": false,
     "start_time": "2021-08-30T15:42:09.710544",
     "status": "completed"
    },
    "tags": []
   },
   "outputs": [
    {
     "data": {
      "image/png": "[encoded data removed]",
      "text/plain": [
       "<Figure size 432x288 with 1 Axes>"
      ]
     },
     "metadata": {},
     "output_type": "display_data"
    }
   ],
   "source": [
    "train.groupby('Seasons')['y'].sum().plot.pie()\n",
    "plt.show()\n"
   ]
  },
  {
   "cell_type": "code",
   "execution_count": 22,
   "id": "9d6ebe3e",
   "metadata": {
    "execution": {
     "iopub.execute_input": "2021-08-30T15:42:10.233429Z",
     "iopub.status.busy": "2021-08-30T15:42:10.232666Z",
     "iopub.status.idle": "2021-08-30T15:42:10.244983Z",
     "shell.execute_reply": "2021-08-30T15:42:10.244324Z",
     "shell.execute_reply.started": "2021-08-30T15:19:21.386546Z"
    },
    "papermill": {
     "duration": 0.095656,
     "end_time": "2021-08-30T15:42:10.245148",
     "exception": false,
     "start_time": "2021-08-30T15:42:10.149492",
     "status": "completed"
    },
    "tags": []
   },
   "outputs": [
    {
     "data": {
      "text/plain": [
       "WeekDay\n",
       "Friday       646191\n",
       "Monday       612065\n",
       "Tuesday      594777\n",
       "Wednesday    592134\n",
       "Saturday     556266\n",
       "Sunday       538443\n",
       "Thursday     512191\n",
       "Name: y, dtype: int64"
      ]
     },
     "execution_count": 22,
     "metadata": {},
     "output_type": "execute_result"
    }
   ],
   "source": [
    "train.groupby('WeekDay').sum()['y'].sort_values(ascending=False)"
   ]
  },
  {
   "cell_type": "markdown",
   "id": "c7a5f465",
   "metadata": {
    "papermill": {
     "duration": 0.072763,
     "end_time": "2021-08-30T15:42:10.393966",
     "exception": false,
     "start_time": "2021-08-30T15:42:10.321203",
     "status": "completed"
    },
    "tags": []
   },
   "source": [
    "It seems that weekdays have the highest bikes rentals "
   ]
  },
  {
   "cell_type": "code",
   "execution_count": 23,
   "id": "4c2784c9",
   "metadata": {
    "execution": {
     "iopub.execute_input": "2021-08-30T15:42:10.547350Z",
     "iopub.status.busy": "2021-08-30T15:42:10.546628Z",
     "iopub.status.idle": "2021-08-30T15:42:10.712675Z",
     "shell.execute_reply": "2021-08-30T15:42:10.713249Z",
     "shell.execute_reply.started": "2021-08-30T15:19:21.399104Z"
    },
    "papermill": {
     "duration": 0.24222,
     "end_time": "2021-08-30T15:42:10.713422",
     "exception": false,
     "start_time": "2021-08-30T15:42:10.471202",
     "status": "completed"
    },
    "tags": []
   },
   "outputs": [
    {
     "data": {
      "image/png": "[encoded data removed]",
      "text/plain": [
       "<Figure size 432x288 with 1 Axes>"
      ]
     },
     "metadata": {
      "needs_background": "light"
     },
     "output_type": "display_data"
    }
   ],
   "source": [
    "train.groupby('Temperature(�C)').mean()['y'].plot()\n",
    "plt.show()"
   ]
  },
  {
   "cell_type": "markdown",
   "id": "35e15c4e",
   "metadata": {
    "papermill": {
     "duration": 0.08259,
     "end_time": "2021-08-30T15:42:10.881578",
     "exception": false,
     "start_time": "2021-08-30T15:42:10.798988",
     "status": "completed"
    },
    "tags": []
   },
   "source": [
    "It seems that Korean people tends to ride bikes in hot weather."
   ]
  },
  {
   "cell_type": "code",
   "execution_count": 24,
   "id": "8e2c1678",
   "metadata": {
    "execution": {
     "iopub.execute_input": "2021-08-30T15:42:11.050411Z",
     "iopub.status.busy": "2021-08-30T15:42:11.049714Z",
     "iopub.status.idle": "2021-08-30T15:42:11.159356Z",
     "shell.execute_reply": "2021-08-30T15:42:11.154562Z",
     "shell.execute_reply.started": "2021-08-30T15:19:21.540045Z"
    },
    "papermill": {
     "duration": 0.195593,
     "end_time": "2021-08-30T15:42:11.159593",
     "exception": false,
     "start_time": "2021-08-30T15:42:10.964000",
     "status": "completed"
    },
    "tags": []
   },
   "outputs": [
    {
     "data": {
      "image/png": "[encoded data removed]",
      "text/plain": [
       "<Figure size 432x288 with 1 Axes>"
      ]
     },
     "metadata": {},
     "output_type": "display_data"
    }
   ],
   "source": [
    "train.groupby('Is_night').sum()['y'].plot.pie()\n",
    "plt.show()"
   ]
  },
  {
   "cell_type": "code",
   "execution_count": 25,
   "id": "5c74439a",
   "metadata": {
    "execution": {
     "iopub.execute_input": "2021-08-30T15:42:11.339893Z",
     "iopub.status.busy": "2021-08-30T15:42:11.338608Z",
     "iopub.status.idle": "2021-08-30T15:42:11.531017Z",
     "shell.execute_reply": "2021-08-30T15:42:11.531513Z",
     "shell.execute_reply.started": "2021-08-30T15:19:21.621462Z"
    },
    "papermill": {
     "duration": 0.277512,
     "end_time": "2021-08-30T15:42:11.531686",
     "exception": false,
     "start_time": "2021-08-30T15:42:11.254174",
     "status": "completed"
    },
    "tags": []
   },
   "outputs": [
    {
     "data": {
      "image/png": "[encoded data removed]",
      "text/plain": [
       "<Figure size 504x504 with 1 Axes>"
      ]
     },
     "metadata": {
      "needs_background": "light"
     },
     "output_type": "display_data"
    }
   ],
   "source": [
    "boxplotDay_night= train.boxplot(['y'],by='Is_night',figsize=(7,7))"
   ]
  },
  {
   "cell_type": "markdown",
   "id": "dcbef5b6",
   "metadata": {
    "papermill": {
     "duration": 0.079102,
     "end_time": "2021-08-30T15:42:11.693963",
     "exception": false,
     "start_time": "2021-08-30T15:42:11.614861",
     "status": "completed"
    },
    "tags": []
   },
   "source": [
    "According to this boxplot there are much more rentals during the day than the night"
   ]
  },
  {
   "cell_type": "markdown",
   "id": "b702bc00",
   "metadata": {
    "papermill": {
     "duration": 0.079559,
     "end_time": "2021-08-30T15:42:11.849461",
     "exception": false,
     "start_time": "2021-08-30T15:42:11.769902",
     "status": "completed"
    },
    "tags": []
   },
   "source": [
    "Visualisations during the holidays"
   ]
  },
  {
   "cell_type": "code",
   "execution_count": 26,
   "id": "ede5c073",
   "metadata": {
    "execution": {
     "iopub.execute_input": "2021-08-30T15:42:12.012379Z",
     "iopub.status.busy": "2021-08-30T15:42:12.011757Z",
     "iopub.status.idle": "2021-08-30T15:42:12.110174Z",
     "shell.execute_reply": "2021-08-30T15:42:12.109490Z",
     "shell.execute_reply.started": "2021-08-30T15:19:21.785235Z"
    },
    "papermill": {
     "duration": 0.180324,
     "end_time": "2021-08-30T15:42:12.110328",
     "exception": false,
     "start_time": "2021-08-30T15:42:11.930004",
     "status": "completed"
    },
    "tags": []
   },
   "outputs": [
    {
     "data": {
      "image/png": "[encoded data removed]",
      "text/plain": [
       "<Figure size 432x288 with 1 Axes>"
      ]
     },
     "metadata": {},
     "output_type": "display_data"
    }
   ],
   "source": [
    "train.groupby('Holiday').sum()['y'].plot.pie(radius=1)\n",
    "plt.show()"
   ]
  },
  {
   "cell_type": "markdown",
   "id": "5f973f2e",
   "metadata": {
    "papermill": {
     "duration": 0.079117,
     "end_time": "2021-08-30T15:42:12.271991",
     "exception": false,
     "start_time": "2021-08-30T15:42:12.192874",
     "status": "completed"
    },
    "tags": []
   },
   "source": [
    "It means that koreansrent bikes to go to school or work and it indicates that the Holiday column is not that important to the target."
   ]
  },
  {
   "cell_type": "markdown",
   "id": "fb3900d3",
   "metadata": {
    "papermill": {
     "duration": 0.077652,
     "end_time": "2021-08-30T15:42:12.431143",
     "exception": false,
     "start_time": "2021-08-30T15:42:12.353491",
     "status": "completed"
    },
    "tags": []
   },
   "source": [
    " On weekdays more people tend to rent bicycle around 7AM-8AM and 5PM-6PM. As we mentioned earlier this can be attributed to regular school and office commuters."
   ]
  },
  {
   "cell_type": "markdown",
   "id": "acca59f1",
   "metadata": {
    "papermill": {
     "duration": 0.076288,
     "end_time": "2021-08-30T15:42:12.586370",
     "exception": false,
     "start_time": "2021-08-30T15:42:12.510082",
     "status": "completed"
    },
    "tags": []
   },
   "source": [
    "### Outlier Analysis"
   ]
  },
  {
   "cell_type": "code",
   "execution_count": 27,
   "id": "847fc735",
   "metadata": {
    "execution": {
     "iopub.execute_input": "2021-08-30T15:42:12.772038Z",
     "iopub.status.busy": "2021-08-30T15:42:12.758722Z",
     "iopub.status.idle": "2021-08-30T15:42:13.032111Z",
     "shell.execute_reply": "2021-08-30T15:42:13.031449Z",
     "shell.execute_reply.started": "2021-08-30T15:19:21.869317Z"
    },
    "papermill": {
     "duration": 0.36599,
     "end_time": "2021-08-30T15:42:13.032265",
     "exception": false,
     "start_time": "2021-08-30T15:42:12.666275",
     "status": "completed"
    },
    "tags": []
   },
   "outputs": [
    {
     "data": {
      "image/png": "[encoded data removed]",
      "text/plain": [
       "<Figure size 504x504 with 1 Axes>"
      ]
     },
     "metadata": {
      "needs_background": "light"
     },
     "output_type": "display_data"
    }
   ],
   "source": [
    "fig,ax=plt.subplots(figsize=(7,7))\n",
    "#Boxplot for total bikes number outliers\n",
    "sns.boxplot(x='WeekDay', y='y',data=train[['y','WeekDay']])\n",
    "ax.set_xlabel('WeekDay')\n",
    "ax.set_ylabel('Count')\n",
    "ax.set_title('Box Plot On Count Across Day Of The week')\n",
    "plt.show()"
   ]
  },
  {
   "cell_type": "code",
   "execution_count": 28,
   "id": "56e8b506",
   "metadata": {
    "execution": {
     "iopub.execute_input": "2021-08-30T15:42:13.248389Z",
     "iopub.status.busy": "2021-08-30T15:42:13.220421Z",
     "iopub.status.idle": "2021-08-30T15:42:14.439436Z",
     "shell.execute_reply": "2021-08-30T15:42:14.437900Z",
     "shell.execute_reply.started": "2021-08-30T15:19:22.101646Z"
    },
    "papermill": {
     "duration": 1.327384,
     "end_time": "2021-08-30T15:42:14.439676",
     "exception": false,
     "start_time": "2021-08-30T15:42:13.112292",
     "status": "completed"
    },
    "scrolled": true,
    "tags": []
   },
   "outputs": [
    {
     "data": {
      "text/plain": [
       "[Text(0.5, 0, 'Working Day'),\n",
       " Text(0, 0.5, 'Count'),\n",
       " Text(0.5, 1.0, 'Box Plot On Count Across Working Day')]"
      ]
     },
     "execution_count": 28,
     "metadata": {},
     "output_type": "execute_result"
    },
    {
     "data": {
      "image/png": "[encoded data removed]",
      "text/plain": [
       "<Figure size 1440x720 with 4 Axes>"
      ]
     },
     "metadata": {
      "needs_background": "light"
     },
     "output_type": "display_data"
    }
   ],
   "source": [
    "fig, axes = plt.subplots(nrows=2,ncols=2)\n",
    "fig.set_size_inches(20, 10)\n",
    "sns.boxplot(data=train[['y']],y=\"y\",orient=\"v\",ax=axes[0][0])\n",
    "sns.boxplot(data=train[['y','Seasons']],y=\"y\",x=\"Seasons\",orient=\"v\",ax=axes[0][1])\n",
    "sns.boxplot(data=train[['y','Hour']],y=\"y\",x=\"Hour\",orient=\"v\",ax=axes[1][0])\n",
    "sns.boxplot(data=train[['y','Functioning Day']],y=\"y\",x=\"Functioning Day\",orient=\"v\",ax=axes[1][1])\n",
    "\n",
    "axes[0][0].set(ylabel='Count',title=\"Box Plot On Count\")\n",
    "axes[0][1].set(xlabel='Season', ylabel='Count',title=\"Box Plot On Count Across Season\")\n",
    "axes[1][0].set(xlabel='Hour Of The Day', ylabel='Count',title=\"Box Plot On Count Across Hour Of The Day\")\n",
    "axes[1][1].set(xlabel='Working Day', ylabel='Count',title=\"Box Plot On Count Across Working Day\")"
   ]
  },
  {
   "cell_type": "markdown",
   "id": "3d2f86f9",
   "metadata": {
    "papermill": {
     "duration": 0.086452,
     "end_time": "2021-08-30T15:42:14.611947",
     "exception": false,
     "start_time": "2021-08-30T15:42:14.525495",
     "status": "completed"
    },
    "tags": []
   },
   "source": [
    "Remove outliers in the target column"
   ]
  },
  {
   "cell_type": "code",
   "execution_count": 29,
   "id": "dcf52929",
   "metadata": {
    "execution": {
     "iopub.execute_input": "2021-08-30T15:42:14.785136Z",
     "iopub.status.busy": "2021-08-30T15:42:14.784421Z",
     "iopub.status.idle": "2021-08-30T15:42:14.790667Z",
     "shell.execute_reply": "2021-08-30T15:42:14.791145Z",
     "shell.execute_reply.started": "2021-08-30T15:19:23.302883Z"
    },
    "papermill": {
     "duration": 0.094772,
     "end_time": "2021-08-30T15:42:14.791326",
     "exception": false,
     "start_time": "2021-08-30T15:42:14.696554",
     "status": "completed"
    },
    "tags": []
   },
   "outputs": [
    {
     "name": "stdout",
     "output_type": "stream",
     "text": [
      "Shape Of The Before Ouliers:  (5760, 18)\n",
      "Shape Of The After Ouliers:  (5718, 18)\n"
     ]
    }
   ],
   "source": [
    "trainDataWithoutOutliers = train[np.abs(train[\"y\"]-train[\"y\"].mean())<=(3*train[\"y\"].std())]\n",
    "print (\"Shape Of The Before Ouliers: \",train.shape)\n",
    "print (\"Shape Of The After Ouliers: \",trainDataWithoutOutliers.shape)"
   ]
  },
  {
   "cell_type": "markdown",
   "id": "371447b8",
   "metadata": {
    "papermill": {
     "duration": 0.080036,
     "end_time": "2021-08-30T15:42:14.951540",
     "exception": false,
     "start_time": "2021-08-30T15:42:14.871504",
     "status": "completed"
    },
    "tags": []
   },
   "source": [
    "## Feature Engineering"
   ]
  },
  {
   "cell_type": "code",
   "execution_count": 30,
   "id": "0a146f08",
   "metadata": {
    "execution": {
     "iopub.execute_input": "2021-08-30T15:42:15.120268Z",
     "iopub.status.busy": "2021-08-30T15:42:15.119248Z",
     "iopub.status.idle": "2021-08-30T15:42:15.153664Z",
     "shell.execute_reply": "2021-08-30T15:42:15.153095Z",
     "shell.execute_reply.started": "2021-08-30T15:19:23.316814Z"
    },
    "papermill": {
     "duration": 0.122912,
     "end_time": "2021-08-30T15:42:15.153831",
     "exception": false,
     "start_time": "2021-08-30T15:42:15.030919",
     "status": "completed"
    },
    "tags": []
   },
   "outputs": [],
   "source": [
    "#Read In Train And Test Data\n",
    "dataset_path = '/kaggle/input/seoul-bike-rental-ai-pro-iti/'\n",
    "dataTrain = pd.read_csv(os.path.join(dataset_path, 'train.csv'))\n",
    "dataTest =pd.read_csv(os.path.join(dataset_path, 'test.csv'))"
   ]
  },
  {
   "cell_type": "code",
   "execution_count": 31,
   "id": "7f5541d3",
   "metadata": {
    "execution": {
     "iopub.execute_input": "2021-08-30T15:42:15.336191Z",
     "iopub.status.busy": "2021-08-30T15:42:15.334860Z",
     "iopub.status.idle": "2021-08-30T15:42:15.349405Z",
     "shell.execute_reply": "2021-08-30T15:42:15.349906Z",
     "shell.execute_reply.started": "2021-08-30T15:19:23.353414Z"
    },
    "papermill": {
     "duration": 0.109279,
     "end_time": "2021-08-30T15:42:15.350095",
     "exception": false,
     "start_time": "2021-08-30T15:42:15.240816",
     "status": "completed"
    },
    "tags": []
   },
   "outputs": [],
   "source": [
    "#Combine dataTrain And Test\n",
    "data = dataTrain.append(dataTest)\n",
    "data.reset_index(inplace=True)\n",
    "data.drop('index',inplace=True,axis=1)\n"
   ]
  },
  {
   "cell_type": "code",
   "execution_count": 32,
   "id": "27aa3620",
   "metadata": {
    "execution": {
     "iopub.execute_input": "2021-08-30T15:42:15.532638Z",
     "iopub.status.busy": "2021-08-30T15:42:15.531616Z",
     "iopub.status.idle": "2021-08-30T15:42:15.548614Z",
     "shell.execute_reply": "2021-08-30T15:42:15.549185Z",
     "shell.execute_reply.started": "2021-08-30T15:19:23.370013Z"
    },
    "papermill": {
     "duration": 0.111125,
     "end_time": "2021-08-30T15:42:15.549367",
     "exception": false,
     "start_time": "2021-08-30T15:42:15.438242",
     "status": "completed"
    },
    "scrolled": true,
    "tags": []
   },
   "outputs": [],
   "source": [
    "# Convert date to datetime object\n",
    "data['Date']=pd.to_datetime(data['Date'],format=\"%d/%m/%Y\")\n",
    "# Create a day of week feature\n",
    "data['DayofWeek'] = data['Date'].dt.dayofweek\n",
    "# Create a month feature\n",
    "data['Month'] = data['Date'].dt.month\n",
    "# Create a year feature\n",
    "data['Year'] = data['Date'].dt.year\n"
   ]
  },
  {
   "cell_type": "markdown",
   "id": "b3ac5678",
   "metadata": {
    "papermill": {
     "duration": 0.079983,
     "end_time": "2021-08-30T15:42:15.711989",
     "exception": false,
     "start_time": "2021-08-30T15:42:15.632006",
     "status": "completed"
    },
    "tags": []
   },
   "source": [
    "Categorical Features"
   ]
  },
  {
   "cell_type": "markdown",
   "id": "0fa96bc6",
   "metadata": {
    "papermill": {
     "duration": 0.080203,
     "end_time": "2021-08-30T15:42:15.876839",
     "exception": false,
     "start_time": "2021-08-30T15:42:15.796636",
     "status": "completed"
    },
    "tags": []
   },
   "source": [
    "Since We are dealing with binary features in the case of  (Holiday,Functioning Day) it is suggested to apply label encoder."
   ]
  },
  {
   "cell_type": "code",
   "execution_count": 33,
   "id": "457814de",
   "metadata": {
    "execution": {
     "iopub.execute_input": "2021-08-30T15:42:16.045229Z",
     "iopub.status.busy": "2021-08-30T15:42:16.044400Z",
     "iopub.status.idle": "2021-08-30T15:42:16.210246Z",
     "shell.execute_reply": "2021-08-30T15:42:16.210777Z",
     "shell.execute_reply.started": "2021-08-30T15:19:23.389043Z"
    },
    "papermill": {
     "duration": 0.252236,
     "end_time": "2021-08-30T15:42:16.210973",
     "exception": false,
     "start_time": "2021-08-30T15:42:15.958737",
     "status": "completed"
    },
    "scrolled": true,
    "tags": []
   },
   "outputs": [],
   "source": [
    "from sklearn.preprocessing import LabelEncoder\n",
    "# Label encoder\n",
    "le = LabelEncoder()\n",
    "# Create new features\n",
    "data['Holiday'] = le.fit_transform(data[\"Holiday\"])\n",
    "data['Functioning Day'] = le.fit_transform(data[\"Functioning Day\"])\n"
   ]
  },
  {
   "cell_type": "markdown",
   "id": "99ec3aa4",
   "metadata": {
    "papermill": {
     "duration": 0.080839,
     "end_time": "2021-08-30T15:42:16.372122",
     "exception": false,
     "start_time": "2021-08-30T15:42:16.291283",
     "status": "completed"
    },
    "tags": []
   },
   "source": [
    "The problem with label encoding is that it implicitly assumes that there is a ranking dependency between the categories so we changed the encoding method for the features \"Seasons\" to one-hot encoding. "
   ]
  },
  {
   "cell_type": "code",
   "execution_count": 34,
   "id": "444adb13",
   "metadata": {
    "execution": {
     "iopub.execute_input": "2021-08-30T15:42:16.540544Z",
     "iopub.status.busy": "2021-08-30T15:42:16.539904Z",
     "iopub.status.idle": "2021-08-30T15:42:16.544943Z",
     "shell.execute_reply": "2021-08-30T15:42:16.544345Z",
     "shell.execute_reply.started": "2021-08-30T15:19:23.409340Z"
    },
    "papermill": {
     "duration": 0.091864,
     "end_time": "2021-08-30T15:42:16.545107",
     "exception": false,
     "start_time": "2021-08-30T15:42:16.453243",
     "status": "completed"
    },
    "tags": []
   },
   "outputs": [],
   "source": [
    "#data['peak'] = data[['Hour', 'Functioning Day']].apply(lambda x: (0, 1)[(x['Functioning Day'] == 1 and  ( x['Hour'] == 8 or 17 <= x['Hour'] <= 18 or 12 <= x['Hour'] <= 13)) or (x['Functioning Day'] == 0 and  10 <= x['Hour'] <= 19)], axis = 1)\n"
   ]
  },
  {
   "cell_type": "code",
   "execution_count": 35,
   "id": "5c808cb8",
   "metadata": {
    "execution": {
     "iopub.execute_input": "2021-08-30T15:42:16.725602Z",
     "iopub.status.busy": "2021-08-30T15:42:16.724341Z",
     "iopub.status.idle": "2021-08-30T15:42:16.733378Z",
     "shell.execute_reply": "2021-08-30T15:42:16.732818Z",
     "shell.execute_reply.started": "2021-08-30T15:19:23.428890Z"
    },
    "papermill": {
     "duration": 0.10137,
     "end_time": "2021-08-30T15:42:16.733673",
     "exception": false,
     "start_time": "2021-08-30T15:42:16.632303",
     "status": "completed"
    },
    "tags": []
   },
   "outputs": [],
   "source": [
    "# Create One-Hot encoded features\n",
    "dummy_fields = ['Seasons']\n",
    "dummies = pd.get_dummies(data['Seasons'], prefix='Seasons', drop_first=False)\n",
    "data = pd.concat([data, dummies], axis=1)\n",
    "\n"
   ]
  },
  {
   "cell_type": "code",
   "execution_count": 36,
   "id": "2ab904de",
   "metadata": {
    "execution": {
     "iopub.execute_input": "2021-08-30T15:42:16.906878Z",
     "iopub.status.busy": "2021-08-30T15:42:16.906181Z",
     "iopub.status.idle": "2021-08-30T15:42:16.917258Z",
     "shell.execute_reply": "2021-08-30T15:42:16.916638Z",
     "shell.execute_reply.started": "2021-08-30T15:19:23.451805Z"
    },
    "jupyter": {
     "source_hidden": true
    },
    "papermill": {
     "duration": 0.097691,
     "end_time": "2021-08-30T15:42:16.917398",
     "exception": false,
     "start_time": "2021-08-30T15:42:16.819707",
     "status": "completed"
    },
    "tags": []
   },
   "outputs": [],
   "source": [
    "#Splitting Train And Test Data\n",
    "dataTrain = data[pd.notnull(data['y'])].sort_values(by=[\"Date\"])\n",
    "dataTest = data[~pd.notnull(data['y'])].sort_values(by=[\"Date\"])\n",
    "\n"
   ]
  },
  {
   "cell_type": "code",
   "execution_count": 37,
   "id": "d26b52c0",
   "metadata": {
    "execution": {
     "iopub.execute_input": "2021-08-30T15:42:17.090996Z",
     "iopub.status.busy": "2021-08-30T15:42:17.089712Z",
     "iopub.status.idle": "2021-08-30T15:42:17.092930Z",
     "shell.execute_reply": "2021-08-30T15:42:17.093435Z",
     "shell.execute_reply.started": "2021-08-30T15:19:23.469485Z"
    },
    "papermill": {
     "duration": 0.091143,
     "end_time": "2021-08-30T15:42:17.093610",
     "exception": false,
     "start_time": "2021-08-30T15:42:17.002467",
     "status": "completed"
    },
    "tags": []
   },
   "outputs": [],
   "source": [
    "datetimecol = dataTest[\"Date\"]\n",
    "ID=dataTest[\"ID\"]\n",
    "yLabels = dataTrain[\"y\"]"
   ]
  },
  {
   "cell_type": "code",
   "execution_count": 38,
   "id": "21963868",
   "metadata": {
    "execution": {
     "iopub.execute_input": "2021-08-30T15:42:17.261300Z",
     "iopub.status.busy": "2021-08-30T15:42:17.260509Z",
     "iopub.status.idle": "2021-08-30T15:42:17.467498Z",
     "shell.execute_reply": "2021-08-30T15:42:17.466970Z",
     "shell.execute_reply.started": "2021-08-30T15:19:23.477723Z"
    },
    "papermill": {
     "duration": 0.292961,
     "end_time": "2021-08-30T15:42:17.467645",
     "exception": false,
     "start_time": "2021-08-30T15:42:17.174684",
     "status": "completed"
    },
    "tags": []
   },
   "outputs": [],
   "source": [
    "#Train and validator Split\n",
    "from sklearn.model_selection import train_test_split\n",
    "X_train, X_validate, y_train, y_validate = train_test_split( dataTrain, yLabels, test_size=0.3, random_state=42)\n"
   ]
  },
  {
   "cell_type": "code",
   "execution_count": 39,
   "id": "3280fb1e",
   "metadata": {
    "execution": {
     "iopub.execute_input": "2021-08-30T15:42:17.635524Z",
     "iopub.status.busy": "2021-08-30T15:42:17.634826Z",
     "iopub.status.idle": "2021-08-30T15:42:17.637640Z",
     "shell.execute_reply": "2021-08-30T15:42:17.636921Z",
     "shell.execute_reply.started": "2021-08-30T15:19:23.496365Z"
    },
    "papermill": {
     "duration": 0.088219,
     "end_time": "2021-08-30T15:42:17.637815",
     "exception": false,
     "start_time": "2021-08-30T15:42:17.549596",
     "status": "completed"
    },
    "tags": []
   },
   "outputs": [],
   "source": [
    "dateTimeColValidate = X_validate[\"Date\"]"
   ]
  },
  {
   "cell_type": "code",
   "execution_count": 40,
   "id": "4f797b4d",
   "metadata": {
    "execution": {
     "iopub.execute_input": "2021-08-30T15:42:17.819253Z",
     "iopub.status.busy": "2021-08-30T15:42:17.818593Z",
     "iopub.status.idle": "2021-08-30T15:42:17.834263Z",
     "shell.execute_reply": "2021-08-30T15:42:17.834821Z",
     "shell.execute_reply.started": "2021-08-30T15:19:23.508328Z"
    },
    "papermill": {
     "duration": 0.110146,
     "end_time": "2021-08-30T15:42:17.834995",
     "exception": false,
     "start_time": "2021-08-30T15:42:17.724849",
     "status": "completed"
    },
    "tags": []
   },
   "outputs": [
    {
     "data": {
      "text/plain": [
       "0"
      ]
     },
     "execution_count": 40,
     "metadata": {},
     "output_type": "execute_result"
    }
   ],
   "source": [
    "dataTrain.duplicated().sum()"
   ]
  },
  {
   "cell_type": "markdown",
   "id": "4782544e",
   "metadata": {
    "papermill": {
     "duration": 0.083391,
     "end_time": "2021-08-30T15:42:18.000294",
     "exception": false,
     "start_time": "2021-08-30T15:42:17.916903",
     "status": "completed"
    },
    "tags": []
   },
   "source": [
    "\n",
    "Dropping Unncessary Columns"
   ]
  },
  {
   "cell_type": "code",
   "execution_count": 41,
   "id": "6583c38b",
   "metadata": {
    "execution": {
     "iopub.execute_input": "2021-08-30T15:42:18.179382Z",
     "iopub.status.busy": "2021-08-30T15:42:18.178701Z",
     "iopub.status.idle": "2021-08-30T15:42:18.189882Z",
     "shell.execute_reply": "2021-08-30T15:42:18.190465Z",
     "shell.execute_reply.started": "2021-08-30T15:19:23.532596Z"
    },
    "papermill": {
     "duration": 0.104234,
     "end_time": "2021-08-30T15:42:18.190670",
     "exception": false,
     "start_time": "2021-08-30T15:42:18.086436",
     "status": "completed"
    },
    "tags": []
   },
   "outputs": [],
   "source": [
    "#Dropping Unncessary Variables\n",
    "dropFeatures=['ID','y','Date','Seasons','Dew point temperature(�C)','Year']\n",
    "dataTrain  = dataTrain.drop(dropFeatures,axis=1)\n",
    "dataTest  = dataTest.drop(dropFeatures,axis=1)\n",
    "X_train = X_train.drop(dropFeatures,axis=1)\n",
    "X_validate = X_validate.drop(dropFeatures,axis=1)"
   ]
  },
  {
   "cell_type": "markdown",
   "id": "78940670",
   "metadata": {
    "papermill": {
     "duration": 0.083708,
     "end_time": "2021-08-30T15:42:18.358295",
     "exception": false,
     "start_time": "2021-08-30T15:42:18.274587",
     "status": "completed"
    },
    "tags": []
   },
   "source": [
    "## Modeling"
   ]
  },
  {
   "cell_type": "markdown",
   "id": "bbfcda3d",
   "metadata": {
    "papermill": {
     "duration": 0.083733,
     "end_time": "2021-08-30T15:42:18.526489",
     "exception": false,
     "start_time": "2021-08-30T15:42:18.442756",
     "status": "completed"
    },
    "tags": []
   },
   "source": [
    "import libraires needed for modeling"
   ]
  },
  {
   "cell_type": "code",
   "execution_count": 42,
   "id": "d85f68c8",
   "metadata": {
    "execution": {
     "iopub.execute_input": "2021-08-30T15:42:18.696393Z",
     "iopub.status.busy": "2021-08-30T15:42:18.695747Z",
     "iopub.status.idle": "2021-08-30T15:42:19.078671Z",
     "shell.execute_reply": "2021-08-30T15:42:19.077664Z",
     "shell.execute_reply.started": "2021-08-30T15:19:23.543484Z"
    },
    "papermill": {
     "duration": 0.468293,
     "end_time": "2021-08-30T15:42:19.078890",
     "exception": false,
     "start_time": "2021-08-30T15:42:18.610597",
     "status": "completed"
    },
    "tags": []
   },
   "outputs": [],
   "source": [
    "from sklearn.linear_model import LinearRegression,Ridge,Lasso\n",
    "from sklearn.model_selection import GridSearchCV\n",
    "from sklearn import metrics\n",
    "from sklearn.ensemble import RandomForestRegressor\n",
    "from sklearn.ensemble import GradientBoostingRegressor\n",
    "from sklearn.ensemble import StackingRegressor\n",
    "from xgboost import XGBRegressor\n",
    "from sklearn.metrics import r2_score\n",
    "import warnings\n",
    "pd.options.mode.chained_assignment = None\n",
    "warnings.filterwarnings(\"ignore\", category=DeprecationWarning)"
   ]
  },
  {
   "cell_type": "markdown",
   "id": "1ba02a34",
   "metadata": {
    "papermill": {
     "duration": 0.093057,
     "end_time": "2021-08-30T15:42:19.261958",
     "exception": false,
     "start_time": "2021-08-30T15:42:19.168901",
     "status": "completed"
    },
    "tags": []
   },
   "source": [
    "RMSLE Scorer"
   ]
  },
  {
   "cell_type": "code",
   "execution_count": 43,
   "id": "0465b3c0",
   "metadata": {
    "execution": {
     "iopub.execute_input": "2021-08-30T15:42:19.455563Z",
     "iopub.status.busy": "2021-08-30T15:42:19.454320Z",
     "iopub.status.idle": "2021-08-30T15:42:19.457509Z",
     "shell.execute_reply": "2021-08-30T15:42:19.458061Z",
     "shell.execute_reply.started": "2021-08-30T15:19:23.559319Z"
    },
    "papermill": {
     "duration": 0.102886,
     "end_time": "2021-08-30T15:42:19.458263",
     "exception": false,
     "start_time": "2021-08-30T15:42:19.355377",
     "status": "completed"
    },
    "tags": []
   },
   "outputs": [],
   "source": [
    "def rmsle(y, y_,convertExp=True):\n",
    "    if convertExp:\n",
    "        y = np.exp(y),\n",
    "        y_ = np.exp(y_)\n",
    "    log1 = np.nan_to_num(np.array([np.log(v + 1) for v in y]))\n",
    "    log2 = np.nan_to_num(np.array([np.log(v + 1) for v in y_]))\n",
    "    calc = (log1 - log2) ** 2\n",
    "    return np.sqrt(np.mean(calc))"
   ]
  },
  {
   "cell_type": "markdown",
   "id": "c1f9cb30",
   "metadata": {
    "papermill": {
     "duration": 0.092432,
     "end_time": "2021-08-30T15:42:19.642616",
     "exception": false,
     "start_time": "2021-08-30T15:42:19.550184",
     "status": "completed"
    },
    "tags": []
   },
   "source": [
    "### Linear Regression Model"
   ]
  },
  {
   "cell_type": "code",
   "execution_count": 44,
   "id": "08ec8232",
   "metadata": {
    "execution": {
     "iopub.execute_input": "2021-08-30T15:42:19.833055Z",
     "iopub.status.busy": "2021-08-30T15:42:19.832052Z",
     "iopub.status.idle": "2021-08-30T15:42:20.111262Z",
     "shell.execute_reply": "2021-08-30T15:42:20.113111Z",
     "shell.execute_reply.started": "2021-08-30T15:19:23.571881Z"
    },
    "papermill": {
     "duration": 0.38207,
     "end_time": "2021-08-30T15:42:20.113464",
     "exception": false,
     "start_time": "2021-08-30T15:42:19.731394",
     "status": "completed"
    },
    "tags": []
   },
   "outputs": [
    {
     "name": "stdout",
     "output_type": "stream",
     "text": [
      "RMSLE Value For Linear Regression In Validation:  0.6703999898137473\n"
     ]
    }
   ],
   "source": [
    "# Initialize logistic regression model\n",
    "lModel = LinearRegression()\n",
    "\n",
    "# Train the model\n",
    "lModel.fit(X = X_train,y = np.log1p(y_train))\n",
    "\n",
    "# Make predictions\n",
    "preds = lModel.predict(X= X_validate)\n",
    "print (\"RMSLE Value For Linear Regression In Validation: \",rmsle(np.exp(np.log1p(y_validate)),np.exp(preds),False))\n"
   ]
  },
  {
   "cell_type": "markdown",
   "id": "cfd23d7a",
   "metadata": {
    "papermill": {
     "duration": 0.089971,
     "end_time": "2021-08-30T15:42:20.335428",
     "exception": false,
     "start_time": "2021-08-30T15:42:20.245457",
     "status": "completed"
    },
    "tags": []
   },
   "source": [
    "Visualizing Distribution Of Train And Test"
   ]
  },
  {
   "cell_type": "code",
   "execution_count": 45,
   "id": "87312650",
   "metadata": {
    "execution": {
     "iopub.execute_input": "2021-08-30T15:42:20.515890Z",
     "iopub.status.busy": "2021-08-30T15:42:20.514197Z",
     "iopub.status.idle": "2021-08-30T15:42:21.368354Z",
     "shell.execute_reply": "2021-08-30T15:42:21.367769Z",
     "shell.execute_reply.started": "2021-08-30T15:19:23.621022Z"
    },
    "papermill": {
     "duration": 0.946824,
     "end_time": "2021-08-30T15:42:21.368505",
     "exception": false,
     "start_time": "2021-08-30T15:42:20.421681",
     "status": "completed"
    },
    "tags": []
   },
   "outputs": [
    {
     "name": "stderr",
     "output_type": "stream",
     "text": [
      "/opt/conda/lib/python3.7/site-packages/seaborn/distributions.py:2557: FutureWarning: `distplot` is a deprecated function and will be removed in a future version. Please adapt your code to use either `displot` (a figure-level function with similar flexibility) or `histplot` (an axes-level function for histograms).\n",
      "  warnings.warn(msg, FutureWarning)\n",
      "/opt/conda/lib/python3.7/site-packages/seaborn/distributions.py:2557: FutureWarning: `distplot` is a deprecated function and will be removed in a future version. Please adapt your code to use either `displot` (a figure-level function with similar flexibility) or `histplot` (an axes-level function for histograms).\n",
      "  warnings.warn(msg, FutureWarning)\n"
     ]
    },
    {
     "data": {
      "image/png": "[encoded data removed]",
      "text/plain": [
       "<Figure size 1440x360 with 2 Axes>"
      ]
     },
     "metadata": {
      "needs_background": "light"
     },
     "output_type": "display_data"
    }
   ],
   "source": [
    "predsTest = lModel.predict(X=dataTest)\n",
    "fig,(ax1,ax2)= plt.subplots(ncols=2)\n",
    "fig.set_size_inches(20,5)\n",
    "sns.distplot(yLabels,ax=ax1,bins=100)\n",
    "sns.distplot(np.exp(predsTest),ax=ax2,bins=100)\n",
    "ax1.set(title=\"Training Set Distribution\")\n",
    "ax2.set(title=\"Test Set Distribution\")\n",
    "plt.show()"
   ]
  },
  {
   "cell_type": "markdown",
   "id": "fc5e021a",
   "metadata": {
    "papermill": {
     "duration": 0.146546,
     "end_time": "2021-08-30T15:42:21.604857",
     "exception": false,
     "start_time": "2021-08-30T15:42:21.458311",
     "status": "completed"
    },
    "tags": []
   },
   "source": [
    "## Regularization Model -  Ridge"
   ]
  },
  {
   "cell_type": "code",
   "execution_count": 46,
   "id": "4d248669",
   "metadata": {
    "execution": {
     "iopub.execute_input": "2021-08-30T15:42:21.799118Z",
     "iopub.status.busy": "2021-08-30T15:42:21.797984Z",
     "iopub.status.idle": "2021-08-30T15:42:23.418591Z",
     "shell.execute_reply": "2021-08-30T15:42:23.419442Z",
     "shell.execute_reply.started": "2021-08-30T15:19:24.383232Z"
    },
    "papermill": {
     "duration": 1.722399,
     "end_time": "2021-08-30T15:42:23.419717",
     "exception": false,
     "start_time": "2021-08-30T15:42:21.697318",
     "status": "completed"
    },
    "tags": []
   },
   "outputs": [
    {
     "name": "stdout",
     "output_type": "stream",
     "text": [
      "{'alpha': 0.01, 'max_iter': 3000}\n",
      "RMSLE Value For Ridge Regression:  0.6704028507431485\n"
     ]
    }
   ],
   "source": [
    "ridge_m_ = Ridge()\n",
    "ridge_params_ = { 'max_iter':[3000],'alpha':[0.01,0.05,0.1, 1, 2, 3, 4, 10, 30,100,200,300,400,800,900,1000]}\n",
    "rmsle_scorer = metrics.make_scorer(rmsle, greater_is_better=False)\n",
    "grid_ridge_m = GridSearchCV( ridge_m_,\n",
    "                          ridge_params_,\n",
    "                          scoring = rmsle_scorer,\n",
    "                          cv=5)\n",
    "grid_ridge_m.fit(X = X_train,y = np.log1p(y_train))\n",
    "preds = grid_ridge_m.predict(X= X_validate)\n",
    "print (grid_ridge_m.best_params_)\n",
    "print (\"RMSLE Value For Ridge Regression: \",rmsle(np.exp(np.log1p(y_validate)),np.exp(preds),False))\n"
   ]
  },
  {
   "cell_type": "markdown",
   "id": "4f692932",
   "metadata": {
    "papermill": {
     "duration": 0.084407,
     "end_time": "2021-08-30T15:42:23.632522",
     "exception": false,
     "start_time": "2021-08-30T15:42:23.548115",
     "status": "completed"
    },
    "tags": []
   },
   "source": [
    "### Regularization Model - Lasso"
   ]
  },
  {
   "cell_type": "code",
   "execution_count": 47,
   "id": "df6d8c55",
   "metadata": {
    "execution": {
     "iopub.execute_input": "2021-08-30T15:42:23.816035Z",
     "iopub.status.busy": "2021-08-30T15:42:23.814961Z",
     "iopub.status.idle": "2021-08-30T15:42:24.865176Z",
     "shell.execute_reply": "2021-08-30T15:42:24.866043Z",
     "shell.execute_reply.started": "2021-08-30T15:19:25.746425Z"
    },
    "papermill": {
     "duration": 1.146649,
     "end_time": "2021-08-30T15:42:24.866319",
     "exception": false,
     "start_time": "2021-08-30T15:42:23.719670",
     "status": "completed"
    },
    "tags": []
   },
   "outputs": [
    {
     "name": "stdout",
     "output_type": "stream",
     "text": [
      "Total number of features: 16\n",
      "Number of selected features: 16\n",
      "{'alpha': 0.001, 'max_iter': 3000}\n",
      "RMSLE Value For Lasso Regression:  0.6709505991394713\n"
     ]
    }
   ],
   "source": [
    "lasso_m_ = Lasso()\n",
    "\n",
    "alpha  = [0.001,0.005,0.01,0.3,0.1,0.3,0.5,0.7,1]\n",
    "lasso_params_ = { 'max_iter':[3000],'alpha':alpha}\n",
    "\n",
    "grid_lasso_m = GridSearchCV( lasso_m_,lasso_params_,scoring = rmsle_scorer,cv=5)\n",
    "yLabelsLog = np.log1p(yLabels)\n",
    "grid_lasso_m.fit(X = X_train,y = np.log1p(y_train))\n",
    "# Find the number of nonzero coefficients (selected features)\n",
    "best_lr = grid_lasso_m.best_estimator_\n",
    "coefs = best_lr.coef_\n",
    "print(\"Total number of features:\", coefs.size)\n",
    "print(\"Number of selected features:\", np.count_nonzero(coefs))\n",
    "preds = grid_lasso_m.predict(X= X_validate)\n",
    "print (grid_lasso_m.best_params_)\n",
    "print (\"RMSLE Value For Lasso Regression: \",rmsle(np.exp(np.log1p(y_validate)),np.exp(preds),False))\n"
   ]
  },
  {
   "cell_type": "markdown",
   "id": "08d78729",
   "metadata": {
    "papermill": {
     "duration": 0.0928,
     "end_time": "2021-08-30T15:42:25.090669",
     "exception": false,
     "start_time": "2021-08-30T15:42:24.997869",
     "status": "completed"
    },
    "tags": []
   },
   "source": [
    "### Ensemble Models - Random Forest"
   ]
  },
  {
   "cell_type": "code",
   "execution_count": 48,
   "id": "e1725d53",
   "metadata": {
    "execution": {
     "iopub.execute_input": "2021-08-30T15:42:25.280327Z",
     "iopub.status.busy": "2021-08-30T15:42:25.277187Z",
     "iopub.status.idle": "2021-08-30T15:42:26.984214Z",
     "shell.execute_reply": "2021-08-30T15:42:26.984700Z",
     "shell.execute_reply.started": "2021-08-30T15:19:26.739006Z"
    },
    "papermill": {
     "duration": 1.800865,
     "end_time": "2021-08-30T15:42:26.984908",
     "exception": false,
     "start_time": "2021-08-30T15:42:25.184043",
     "status": "completed"
    },
    "tags": []
   },
   "outputs": [
    {
     "name": "stdout",
     "output_type": "stream",
     "text": [
      "RMSLE Value For Random Forest:  0.3227745605108258\n"
     ]
    }
   ],
   "source": [
    "from sklearn.ensemble import ExtraTreesRegressor\n",
    "rfModel = RandomForestRegressor(bootstrap=False, max_features=0.6000000000000001, min_samples_leaf=2, min_samples_split=6, n_estimators=100)\n",
    "rfModel.fit(X = X_train,y = np.log1p(y_train))\n",
    "rf_pred = rfModel.predict(X= X_validate)\n",
    "print (\"RMSLE Value For Random Forest: \",rmsle(np.exp(np.log1p(y_validate)),np.exp(rf_pred),False))"
   ]
  },
  {
   "cell_type": "markdown",
   "id": "76e7d657",
   "metadata": {
    "papermill": {
     "duration": 0.092904,
     "end_time": "2021-08-30T15:42:27.169714",
     "exception": false,
     "start_time": "2021-08-30T15:42:27.076810",
     "status": "completed"
    },
    "tags": []
   },
   "source": [
    "### Feature Importance By Random Forest"
   ]
  },
  {
   "cell_type": "code",
   "execution_count": 49,
   "id": "6adf54cd",
   "metadata": {
    "execution": {
     "iopub.execute_input": "2021-08-30T15:42:27.366130Z",
     "iopub.status.busy": "2021-08-30T15:42:27.365424Z",
     "iopub.status.idle": "2021-08-30T15:42:27.661487Z",
     "shell.execute_reply": "2021-08-30T15:42:27.660761Z",
     "shell.execute_reply.started": "2021-08-30T15:19:28.412402Z"
    },
    "papermill": {
     "duration": 0.400785,
     "end_time": "2021-08-30T15:42:27.661631",
     "exception": false,
     "start_time": "2021-08-30T15:42:27.260846",
     "status": "completed"
    },
    "tags": []
   },
   "outputs": [
    {
     "data": {
      "image/png": "[encoded data removed]",
      "text/plain": [
       "<Figure size 1440x360 with 1 Axes>"
      ]
     },
     "metadata": {
      "needs_background": "light"
     },
     "output_type": "display_data"
    }
   ],
   "source": [
    "features = pd.DataFrame()\n",
    "features['features'] = X_train.columns\n",
    "features['coefficient'] = rfModel.feature_importances_\n",
    "features.sort_values(by=['coefficient'],ascending=False,inplace=True)\n",
    "fig,ax= plt.subplots()\n",
    "fig.set_size_inches(20,5)\n",
    "sns.barplot(data=features,x=\"features\",y=\"coefficient\",ax=ax)\n",
    "plt.show()"
   ]
  },
  {
   "cell_type": "markdown",
   "id": "86dc59e9",
   "metadata": {
    "papermill": {
     "duration": 0.089818,
     "end_time": "2021-08-30T15:42:27.845445",
     "exception": false,
     "start_time": "2021-08-30T15:42:27.755627",
     "status": "completed"
    },
    "tags": []
   },
   "source": [
    "## Ensemble Model - Gradient Boost"
   ]
  },
  {
   "cell_type": "code",
   "execution_count": 50,
   "id": "4a0da686",
   "metadata": {
    "execution": {
     "iopub.execute_input": "2021-08-30T15:42:28.047618Z",
     "iopub.status.busy": "2021-08-30T15:42:28.046558Z",
     "iopub.status.idle": "2021-08-30T15:42:48.169862Z",
     "shell.execute_reply": "2021-08-30T15:42:48.170328Z",
     "shell.execute_reply.started": "2021-08-30T15:19:28.670351Z"
    },
    "papermill": {
     "duration": 20.227445,
     "end_time": "2021-08-30T15:42:48.170508",
     "exception": false,
     "start_time": "2021-08-30T15:42:27.943063",
     "status": "completed"
    },
    "tags": []
   },
   "outputs": [
    {
     "name": "stdout",
     "output_type": "stream",
     "text": [
      "RMSLE Value For Gradient Boost:  0.3085687826938607\n"
     ]
    }
   ],
   "source": [
    "from sklearn.ensemble import GradientBoostingRegressor\n",
    "gbm = GradientBoostingRegressor(learning_rate=0.01,max_depth=4,n_estimators=4000,random_state=1,subsample=0.5) \n",
    "yLabelsLog = np.log1p(yLabels)\n",
    "gbm.fit(X = X_train,y = np.log1p(y_train))\n",
    "preds = gbm.predict(X= X_validate)\n",
    "print (\"RMSLE Value For Gradient Boost: \",rmsle(np.exp(np.log1p(y_validate)),np.exp(preds),False))"
   ]
  },
  {
   "cell_type": "markdown",
   "id": "ffa2f5bd",
   "metadata": {
    "papermill": {
     "duration": 0.089433,
     "end_time": "2021-08-30T15:42:48.348325",
     "exception": false,
     "start_time": "2021-08-30T15:42:48.258892",
     "status": "completed"
    },
    "tags": []
   },
   "source": [
    "## XGBoost Model "
   ]
  },
  {
   "cell_type": "code",
   "execution_count": 51,
   "id": "91e5a58a",
   "metadata": {
    "execution": {
     "iopub.execute_input": "2021-08-30T15:42:48.537949Z",
     "iopub.status.busy": "2021-08-30T15:42:48.536960Z",
     "iopub.status.idle": "2021-08-30T15:42:49.388498Z",
     "shell.execute_reply": "2021-08-30T15:42:49.387913Z",
     "shell.execute_reply.started": "2021-08-30T15:19:48.217965Z"
    },
    "papermill": {
     "duration": 0.953647,
     "end_time": "2021-08-30T15:42:49.388677",
     "exception": false,
     "start_time": "2021-08-30T15:42:48.435030",
     "status": "completed"
    },
    "tags": []
   },
   "outputs": [
    {
     "name": "stdout",
     "output_type": "stream",
     "text": [
      "RMSLE Value For xgboost:  0.31863049989108605\n"
     ]
    }
   ],
   "source": [
    "regressor = XGBRegressor(n_estimators=1000, learning_rate=0.05)\n",
    "regressor.fit(X = X_train,y = np.log1p(y_train),early_stopping_rounds=5, \n",
    "             eval_set=[(X_validate, y_validate)],verbose=False)\n",
    "xgb_pred = regressor.predict(X= X_validate)\n",
    "print (\"RMSLE Value For xgboost: \",rmsle(np.exp(np.log1p(y_validate)),np.exp(xgb_pred),False))\n"
   ]
  },
  {
   "cell_type": "code",
   "execution_count": null,
   "id": "31899e3c",
   "metadata": {
    "papermill": {
     "duration": 0.086259,
     "end_time": "2021-08-30T15:42:49.563532",
     "exception": false,
     "start_time": "2021-08-30T15:42:49.477273",
     "status": "completed"
    },
    "tags": []
   },
   "outputs": [],
   "source": []
  },
  {
   "cell_type": "markdown",
   "id": "feb2823a",
   "metadata": {
    "papermill": {
     "duration": 0.085891,
     "end_time": "2021-08-30T15:42:49.736252",
     "exception": false,
     "start_time": "2021-08-30T15:42:49.650361",
     "status": "completed"
    },
    "tags": []
   },
   "source": [
    "## StackingRegressor"
   ]
  },
  {
   "cell_type": "code",
   "execution_count": 52,
   "id": "02356ebd",
   "metadata": {
    "execution": {
     "iopub.execute_input": "2021-08-30T15:42:49.928839Z",
     "iopub.status.busy": "2021-08-30T15:42:49.923111Z",
     "iopub.status.idle": "2021-08-30T15:43:21.798892Z",
     "shell.execute_reply": "2021-08-30T15:43:21.799992Z",
     "shell.execute_reply.started": "2021-08-30T15:19:48.852738Z"
    },
    "papermill": {
     "duration": 31.976645,
     "end_time": "2021-08-30T15:43:21.800414",
     "exception": false,
     "start_time": "2021-08-30T15:42:49.823769",
     "status": "completed"
    },
    "tags": []
   },
   "outputs": [
    {
     "name": "stdout",
     "output_type": "stream",
     "text": [
      "RMSLE Value ForStackingRegressor:  0.3056501434027015\n"
     ]
    }
   ],
   "source": [
    "estimators = [('Random Forest', RandomForestRegressor()),\n",
    "              ('XGB', XGBRegressor()),\n",
    "              ('Gradient Boosting', GradientBoostingRegressor())\n",
    "             ]\n",
    "\n",
    "stack = StackingRegressor(estimators=estimators,cv=10, final_estimator=Ridge() ,passthrough=True)\n",
    "\n",
    "stack.fit(X = X_train,y = np.log1p(y_train))\n",
    "\n",
    "stack_pred = stack.predict(X_validate)\n",
    "print (\"RMSLE Value ForStackingRegressor: \",rmsle(np.exp(np.log1p(y_validate)),np.exp(stack_pred),False))"
   ]
  },
  {
   "cell_type": "code",
   "execution_count": 53,
   "id": "3d0eda4a",
   "metadata": {
    "execution": {
     "iopub.execute_input": "2021-08-30T15:43:21.993055Z",
     "iopub.status.busy": "2021-08-30T15:43:21.992344Z",
     "iopub.status.idle": "2021-08-30T15:43:22.182388Z",
     "shell.execute_reply": "2021-08-30T15:43:22.181679Z",
     "shell.execute_reply.started": "2021-08-30T15:20:19.719188Z"
    },
    "papermill": {
     "duration": 0.28835,
     "end_time": "2021-08-30T15:43:22.182563",
     "exception": false,
     "start_time": "2021-08-30T15:43:21.894213",
     "status": "completed"
    },
    "tags": []
   },
   "outputs": [],
   "source": [
    "predsTest = gbm.predict(X=dataTest)"
   ]
  },
  {
   "cell_type": "markdown",
   "id": "703a501e",
   "metadata": {
    "papermill": {
     "duration": 0.090217,
     "end_time": "2021-08-30T15:43:22.370831",
     "exception": false,
     "start_time": "2021-08-30T15:43:22.280614",
     "status": "completed"
    },
    "tags": []
   },
   "source": [
    "## Submission "
   ]
  },
  {
   "cell_type": "code",
   "execution_count": 54,
   "id": "68f29ce2",
   "metadata": {
    "execution": {
     "iopub.execute_input": "2021-08-30T15:43:22.554181Z",
     "iopub.status.busy": "2021-08-30T15:43:22.553452Z",
     "iopub.status.idle": "2021-08-30T15:43:22.571540Z",
     "shell.execute_reply": "2021-08-30T15:43:22.572038Z",
     "shell.execute_reply.started": "2021-08-30T15:20:19.952632Z"
    },
    "papermill": {
     "duration": 0.116386,
     "end_time": "2021-08-30T15:43:22.572230",
     "exception": false,
     "start_time": "2021-08-30T15:43:22.455844",
     "status": "completed"
    },
    "tags": []
   },
   "outputs": [],
   "source": [
    "# Write predictions\n",
    "submission = pd.DataFrame({\n",
    "        \"ID\": ID,\n",
    "        \"y\": [max(0, x) for x in np.exp(predsTest)]\n",
    "    })\n",
    "submission.to_csv('Seoul_predictions1.csv', index=False)"
   ]
  },
  {
   "cell_type": "code",
   "execution_count": null,
   "id": "0283d78e",
   "metadata": {
    "papermill": {
     "duration": 0.086592,
     "end_time": "2021-08-30T15:43:22.745533",
     "exception": false,
     "start_time": "2021-08-30T15:43:22.658941",
     "status": "completed"
    },
    "tags": []
   },
   "outputs": [],
   "source": []
  }
 ],
 "metadata": {
  "kernelspec": {
   "display_name": "Python 3",
   "language": "python",
   "name": "python3"
  },
  "language_info": {
   "codemirror_mode": {
    "name": "ipython",
    "version": 3
   },
   "file_extension": ".py",
   "mimetype": "text/x-python",
   "name": "python",
   "nbconvert_exporter": "python",
   "pygments_lexer": "ipython3",
   "version": "3.7.10"
  },
  "papermill": {
   "default_parameters": {},
   "duration": 91.996094,
   "end_time": "2021-08-30T15:43:23.742470",
   "environment_variables": {},
   "exception": null,
   "input_path": "__notebook__.ipynb",
   "output_path": "__notebook__.ipynb",
   "parameters": {},
   "start_time": "2021-08-30T15:41:51.746376",
   "version": "2.3.3"
  }
 },
 "nbformat": 4,
 "nbformat_minor": 5
}
